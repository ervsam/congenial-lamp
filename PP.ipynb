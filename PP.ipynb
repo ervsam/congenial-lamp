{
 "cells": [
  {
   "cell_type": "code",
   "execution_count": 1,
   "metadata": {},
   "outputs": [],
   "source": [
    "import heapq\n",
    "import matplotlib.pyplot as plt\n",
    "from matplotlib.animation import FuncAnimation\n",
    "\n",
    "def update_plot(frame, grid, paths):\n",
    "    plt.cla()\n",
    "    plt.imshow(grid, cmap='binary')\n",
    "\n",
    "    for i, path in enumerate(paths):\n",
    "        if frame < len(path):\n",
    "            x, y = path[frame]\n",
    "            plt.text(y, x, str(i+1), ha='center',\n",
    "                     va='center', fontsize=10, color='red')\n",
    "\n",
    "    # plt.gca().invert_yaxis()\n",
    "    plt.xticks(range(len(grid[0])))\n",
    "    plt.yticks(range(len(grid)))\n"
   ]
  },
  {
   "cell_type": "code",
   "execution_count": 8,
   "metadata": {},
   "outputs": [
    {
     "name": "stdout",
     "output_type": "stream",
     "text": [
      "Agent 0: [(4, 0), (4, 1), (4, 2), (4, 3), (4, 4), (3, 4), (2, 4), (1, 4), (0, 4)]\n",
      "Agent 1: [(4, 1), (3, 1), (4, 1), (4, 0)]\n"
     ]
    }
   ],
   "source": [
    "import heapq\n",
    "from collections import defaultdict, deque\n",
    "\n",
    "def low_level_search(start, goal, grid, constraints, agent_id, max_time=100):\n",
    "    \"\"\"A* search for a single agent that respects constraints.\"\"\"\n",
    "    def heuristic(pos):\n",
    "        return abs(pos[0] - goal[0]) + abs(pos[1] - goal[1])\n",
    "\n",
    "    def get_neighbors(pos):\n",
    "        x, y = pos\n",
    "        neighbors = [(x, y)]\n",
    "        for dx, dy in [(0, 1), (1, 0), (0, -1), (-1, 0)]:\n",
    "            nx, ny = x + dx, y + dy\n",
    "            if 0 <= nx < len(grid) and 0 <= ny < len(grid[0]) and grid[nx][ny] == 0:\n",
    "                neighbors.append((nx, ny))\n",
    "        return neighbors\n",
    "\n",
    "    open_set = []\n",
    "    heapq.heappush(open_set, (heuristic(start), 0, start, []))\n",
    "    visited = set()\n",
    "\n",
    "    while open_set:\n",
    "        _, g, current, path = heapq.heappop(open_set)\n",
    "        if (current, len(path)) in visited:\n",
    "            continue\n",
    "        visited.add((current, len(path)))\n",
    "\n",
    "        # Goal check\n",
    "        if current == goal:\n",
    "            return path + [current]\n",
    "\n",
    "        # Expand neighbors\n",
    "        for neighbor in get_neighbors(current):\n",
    "            conflict = False\n",
    "\n",
    "            for c in constraints:\n",
    "                if c['agent'] != agent_id:\n",
    "                    if c['type'] == 'vertex':\n",
    "                        # Check for vertex conflict\n",
    "                        if c['pos'] == neighbor and c['time'] == g + 1:\n",
    "                            conflict = True\n",
    "                            break\n",
    "                    elif c['type'] == 'edge':\n",
    "                        # Check for edge conflict\n",
    "                        \n",
    "                        if current != neighbor:\n",
    "                            if c['edge'] == (neighbor, current) and c['time'] == g + 1:\n",
    "                                conflict = True\n",
    "                                break\n",
    "                        # # Also check reverse edge for wait actions being misinterpreted as conflicts\n",
    "                        # if c['edge'] == (neighbor, current) and c['time'] == g + 1:\n",
    "                        #     conflict = True\n",
    "                            # break\n",
    "\n",
    "            if not conflict:\n",
    "                heapq.heappush(open_set, (g + heuristic(neighbor), g + 1, neighbor, path + [current]))\n",
    "\n",
    "    return None  # No path found\n",
    "\n",
    "\n",
    "def prioritized_planning(grid, starts, goals, priorities):\n",
    "    constraints = []\n",
    "    paths = [[] for _ in range(len(starts))]\n",
    "\n",
    "    for agent in priorities:\n",
    "        path = low_level_search(starts[agent], goals[agent], grid, constraints, agent)\n",
    "        if path is None:\n",
    "            return \"No Solution\"\n",
    "        paths[agent] = path\n",
    "\n",
    "        if path is None:\n",
    "            return False  # No solution found for the current agent\n",
    "    \n",
    "        for time, pos in enumerate(paths[agent]):\n",
    "            # Add a vertex constraint\n",
    "            constraints.append({'type': 'vertex', 'agent': agent, 'pos': pos, 'time': time})\n",
    "            # Add an edge constraint (to prevent moving into `a`'s next position)\n",
    "            if time < len(paths[agent]) - 1:\n",
    "                edge = (paths[agent][time], paths[agent][time + 1])\n",
    "                constraints.append({'type': 'edge', 'agent': agent, 'edge': edge, 'time': time + 1})\n",
    "\n",
    "    return paths\n",
    "\n",
    "# Example Usage\n",
    "if __name__ == \"__main__\":\n",
    "    grid = [\n",
    "        [0, 0, 0, 0, 0],\n",
    "        [0, 1, 1, 1, 0],\n",
    "        [0, 1, 0, 0, 0],\n",
    "        [1, 0, 1, 1, 0],\n",
    "        [0, 0, 0, 0, 0],\n",
    "    ]\n",
    "\n",
    "    starts = [(4, 0), (4, 1)]\n",
    "    goals = [(0, 4), (4, 0)]\n",
    "\n",
    "    paths = prioritized_planning(grid, starts, goals, [0, 1])\n",
    "\n",
    "    if paths:\n",
    "        for i, path in enumerate(paths):\n",
    "            print(f\"Agent {i}: {path}\")\n",
    "    else:\n",
    "        print(\"No solution found\")\n"
   ]
  },
  {
   "cell_type": "code",
   "execution_count": 4,
   "metadata": {},
   "outputs": [
    {
     "data": {
      "image/png": "[encoded data removed]",
      "text/plain": [
       "<Figure size 640x480 with 1 Axes>"
      ]
     },
     "metadata": {},
     "output_type": "display_data"
    }
   ],
   "source": [
    "fig = plt.figure()\n",
    "ani = FuncAnimation(fig, update_plot, frames=max(len(path)\n",
    "                    for path in paths), fargs=(grid, paths), interval=500)\n",
    "ani.save('paths.gif', writer='imagemagick')\n",
    "plt.show()"
   ]
  },
  {
   "cell_type": "code",
   "execution_count": null,
   "metadata": {},
   "outputs": [],
   "source": []
  }
 ],
 "metadata": {
  "kernelspec": {
   "display_name": "torch",
   "language": "python",
   "name": "python3"
  },
  "language_info": {
   "codemirror_mode": {
    "name": "ipython",
    "version": 3
   },
   "file_extension": ".py",
   "mimetype": "text/x-python",
   "name": "python",
   "nbconvert_exporter": "python",
   "pygments_lexer": "ipython3",
   "version": "3.9.15"
  }
 },
 "nbformat": 4,
 "nbformat_minor": 2
}
