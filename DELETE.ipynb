{
 "cells": [
  {
   "cell_type": "markdown",
   "metadata": {},
   "source": [
    "# Generate Warehouse map"
   ]
  },
  {
   "cell_type": "code",
   "execution_count": 15,
   "metadata": {},
   "outputs": [],
   "source": [
    "import numpy as np\n",
    "\n",
    "import matplotlib.pyplot as plt\n",
    "from matplotlib.colors import ListedColormap\n",
    "\n",
    "# Define the colormap\n",
    "cmap = ListedColormap([\"white\", \"black\", \"yellow\", \"red\"])"
   ]
  },
  {
   "cell_type": "code",
   "execution_count": 53,
   "metadata": {},
   "outputs": [],
   "source": [
    "ROWS = 5\n",
    "COLS = 5"
   ]
  },
  {
   "cell_type": "code",
   "execution_count": 60,
   "metadata": {},
   "outputs": [
    {
     "data": {
      "text/plain": [
       "<matplotlib.image.AxesImage at 0x7f6b2aa90790>"
      ]
     },
     "execution_count": 60,
     "metadata": {},
     "output_type": "execute_result"
    },
    {
     "data": {
      "image/png": "[encoded data removed]",
      "text/plain": [
       "<Figure size 640x480 with 1 Axes>"
      ]
     },
     "metadata": {},
     "output_type": "display_data"
    }
   ],
   "source": [
    "people = np.array(\n",
    "    [[2,2,0,2,2],\n",
    "     [2,2,0,2,2],\n",
    "     [2,2,0,2,2],\n",
    "    ]\n",
    ")\n",
    "\n",
    "shelves = np.array(\n",
    "    [[3]*10,\n",
    "     [1]*10,\n",
    "     [3]*10,\n",
    "    ]\n",
    ")\n",
    "\n",
    "hall_ver = np.array(\n",
    "    [[0],\n",
    "     [0],\n",
    "     [0],\n",
    "    ]\n",
    ")\n",
    "\n",
    "plt.imshow(np.concatenate((people, hall_ver, shelves, hall_ver, people), axis=1), cmap=cmap, vmin=0, vmax=3)\n",
    "\n",
    "\n",
    "row = people\n",
    "\n",
    "for j in range(COLS):\n",
    "    row = np.concatenate((row, hall_ver, shelves), axis=1)\n",
    "\n",
    "row = np.concatenate((row, hall_ver, people), axis=1)\n",
    "\n",
    "plt.imshow(row, cmap=cmap, vmin=0, vmax=3)\n",
    "\n",
    "\n",
    "hall_hor = np.array(\n",
    "    [[0]*len(row[0])]\n",
    ")\n",
    "\n",
    "warehouse = row\n",
    "\n",
    "for i in range(ROWS-1):\n",
    "    warehouse = np.concatenate((warehouse, hall_hor, row), axis=0)\n",
    "\n",
    "# pad the warehouse with a row of zeros\n",
    "warehouse = np.pad(warehouse, 1, 'constant')\n",
    "\n",
    "plt.imshow(warehouse, cmap=cmap, vmin=0, vmax=3)"
   ]
  },
  {
   "cell_type": "markdown",
   "metadata": {},
   "source": [
    "# Softmax"
   ]
  },
  {
   "cell_type": "code",
   "execution_count": 20,
   "metadata": {},
   "outputs": [],
   "source": [
    "import torch\n",
    "import torch.nn.functional as F\n",
    "\n",
    "import numpy as np"
   ]
  },
  {
   "cell_type": "code",
   "execution_count": 25,
   "metadata": {},
   "outputs": [
    {
     "data": {
      "text/plain": [
       "tensor([[45.6609, 54.3391],\n",
       "        [35.9623, 64.0377],\n",
       "        [76.8525, 23.1475],\n",
       "        [31.7345, 68.2655],\n",
       "        [73.7110, 26.2890],\n",
       "        [76.7991, 23.2009],\n",
       "        [51.5995, 48.4005],\n",
       "        [50.6250, 49.3750],\n",
       "        [51.9989, 48.0011]])"
      ]
     },
     "execution_count": 25,
     "metadata": {},
     "output_type": "execute_result"
    }
   ],
   "source": [
    "F.softmax(torch.tensor([[-0.039,  0.135],\n",
    "[-0.215,  0.362],\n",
    "[ 0.577, -0.623],\n",
    "[-0.323,  0.443],\n",
    "[ 0.473, -0.558],\n",
    "[ 0.588, -0.609],\n",
    "[-0.031, -0.095],\n",
    "[-0.049, -0.074],\n",
    "[-0.013, -0.093]]), dim=1)*100"
   ]
  },
  {
   "cell_type": "code",
   "execution_count": 24,
   "metadata": {},
   "outputs": [
    {
     "data": {
      "text/plain": [
       "tensor([[42.4824, 57.5176],\n",
       "        [35.8243, 64.1757],\n",
       "        [76.1333, 23.8667],\n",
       "        [34.2764, 65.7236],\n",
       "        [74.8570, 25.1430],\n",
       "        [77.0299, 22.9701],\n",
       "        [54.5375, 45.4625],\n",
       "        [52.6974, 47.3026],\n",
       "        [53.5192, 46.4808]])"
      ]
     },
     "execution_count": 24,
     "metadata": {},
     "output_type": "execute_result"
    }
   ],
   "source": [
    "F.softmax(torch.tensor([[-0.086,  0.217],\n",
    "[-0.205,  0.378],\n",
    "[ 0.57, -0.59],\n",
    "[-0.251,  0.4],\n",
    "[ 0.527, -0.564],\n",
    "[ 0.609, -0.601],\n",
    "[ 0.046, -0.136],\n",
    "[ 0.012, -0.096],\n",
    "[ 0.038, -0.103]]), dim=1)*100"
   ]
  },
  {
   "cell_type": "code",
   "execution_count": 13,
   "metadata": {},
   "outputs": [],
   "source": [
    "starts = [(1,2),(2,3),(3,4)]\n",
    "goals = [[(3,3),(4,4),(5,5)]]\n",
    "\n",
    "x = {}"
   ]
  },
  {
   "cell_type": "code",
   "execution_count": 15,
   "metadata": {},
   "outputs": [],
   "source": [
    "x[tuple(starts)] = {}"
   ]
  },
  {
   "cell_type": "code",
   "execution_count": 16,
   "metadata": {},
   "outputs": [],
   "source": [
    "x[tuple(starts)][tuple([tuple(x) for x in goals])] = 0"
   ]
  },
  {
   "cell_type": "code",
   "execution_count": 17,
   "metadata": {},
   "outputs": [
    {
     "data": {
      "text/plain": [
       "0"
      ]
     },
     "execution_count": 17,
     "metadata": {},
     "output_type": "execute_result"
    }
   ],
   "source": [
    "x[tuple(starts)][tuple([tuple(x) for x in goals])]"
   ]
  },
  {
   "cell_type": "markdown",
   "metadata": {},
   "source": [
    "# CONFIG FILE"
   ]
  },
  {
   "cell_type": "code",
   "execution_count": 6,
   "metadata": {},
   "outputs": [
    {
     "data": {
      "text/plain": [
       "{'BATCH_SIZE': 32,\n",
       " 'LAMBDA': 1,\n",
       " 'LR': '1e-4',\n",
       " 'BUFFER_SIZE': 10000,\n",
       " 'TRAIN_STEPS': '1e10',\n",
       " 'N_ACTIONS': 2}"
      ]
     },
     "execution_count": 6,
     "metadata": {},
     "output_type": "execute_result"
    }
   ],
   "source": [
    "import yaml\n",
    "\n",
    "# Load the YAML config file\n",
    "with open(\"config.yaml\", \"r\") as file:\n",
    "    config = yaml.safe_load(file)\n",
    "\n",
    "# Access values\n",
    "BATCH_SIZE = config[\"training\"]\n",
    "BATCH_SIZE"
   ]
  },
  {
   "cell_type": "markdown",
   "metadata": {},
   "source": [
    "# FOV"
   ]
  },
  {
   "cell_type": "code",
   "execution_count": 9,
   "metadata": {},
   "outputs": [],
   "source": [
    "import numpy as np\n",
    "import matplotlib.pyplot as plt"
   ]
  },
  {
   "cell_type": "code",
   "execution_count": 39,
   "metadata": {},
   "outputs": [],
   "source": [
    "num_agents = 3\n",
    "obs_radius = 7\n",
    "\n",
    "obs = np.zeros((num_agents, 6, 2*obs_radius+1, 2*obs_radius+1), dtype=bool)"
   ]
  },
  {
   "cell_type": "code",
   "execution_count": 50,
   "metadata": {},
   "outputs": [
    {
     "data": {
      "text/plain": [
       "<matplotlib.image.AxesImage at 0x7f74fc38fa30>"
      ]
     },
     "execution_count": 50,
     "metadata": {},
     "output_type": "execute_result"
    },
    {
     "data": {
      "image/png": "[encoded data removed]",
      "text/plain": [
       "<Figure size 640x480 with 1 Axes>"
      ]
     },
     "metadata": {},
     "output_type": "display_data"
    }
   ],
   "source": [
    "map_size = (15, 15)\n",
    "grid_map = np.random.randint(2, size=map_size)\n",
    "plt.imshow(grid_map, cmap='gray_r')"
   ]
  },
  {
   "cell_type": "code",
   "execution_count": 51,
   "metadata": {},
   "outputs": [
    {
     "data": {
      "text/plain": [
       "<matplotlib.image.AxesImage at 0x7f74fc3054c0>"
      ]
     },
     "execution_count": 51,
     "metadata": {},
     "output_type": "execute_result"
    },
    {
     "data": {
      "image/png": "[encoded data removed]",
      "text/plain": [
       "<Figure size 640x480 with 1 Axes>"
      ]
     },
     "metadata": {},
     "output_type": "display_data"
    }
   ],
   "source": [
    "obstacle_map = np.pad(grid_map, obs_radius, 'constant', constant_values=0)\n",
    "plt.imshow(obstacle_map, cmap='gray_r')"
   ]
  },
  {
   "cell_type": "code",
   "execution_count": 52,
   "metadata": {},
   "outputs": [
    {
     "data": {
      "text/plain": [
       "<matplotlib.image.AxesImage at 0x7f74fc2da2e0>"
      ]
     },
     "execution_count": 52,
     "metadata": {},
     "output_type": "execute_result"
    },
    {
     "data": {
      "image/png": "[encoded data removed]",
      "text/plain": [
       "<Figure size 640x480 with 1 Axes>"
      ]
     },
     "metadata": {},
     "output_type": "display_data"
    }
   ],
   "source": [
    "agents_pos = np.random.randint(1, map_size[0]-1, size=(num_agents, 2))\n",
    "agent_map = np.zeros((map_size), dtype=bool)\n",
    "agent_map[agents_pos[:,0], agents_pos[:,1]] = 1\n",
    "agent_map = np.pad(agent_map, obs_radius, 'constant', constant_values=0)\n",
    "plt.imshow(agent_map, cmap='gray_r')"
   ]
  },
  {
   "cell_type": "code",
   "execution_count": 53,
   "metadata": {},
   "outputs": [],
   "source": [
    "# 1. neighboring agents\n",
    "# 2. obstacle_map\n",
    "# 3. heuri_map\n",
    "\n",
    "for i, agent_pos in enumerate(agents_pos):\n",
    "    x, y = agent_pos\n",
    "    obs[i, 0] = agent_map[x:x+2*obs_radius+1, y:y+2*obs_radius+1]\n",
    "    obs[i, 0, obs_radius, obs_radius] = 0\n",
    "    obs[i, 1] = obstacle_map[x:x+2*obs_radius+1, y:y+2*obs_radius+1]\n",
    "    # obs[i, 2:] = heuri_map[i, :, x:x+2*obs_radius+1, y:y+2*obs_radius+1]"
   ]
  },
  {
   "cell_type": "code",
   "execution_count": 54,
   "metadata": {},
   "outputs": [
    {
     "data": {
      "text/plain": [
       "array([4, 8])"
      ]
     },
     "execution_count": 54,
     "metadata": {},
     "output_type": "execute_result"
    }
   ],
   "source": [
    "agents_pos[0]"
   ]
  },
  {
   "cell_type": "code",
   "execution_count": 57,
   "metadata": {},
   "outputs": [
    {
     "data": {
      "text/plain": [
       "<matplotlib.image.AxesImage at 0x7f74fc1f2bb0>"
      ]
     },
     "execution_count": 57,
     "metadata": {},
     "output_type": "execute_result"
    },
    {
     "data": {
      "image/png": "[encoded data removed]",
      "text/plain": [
       "<Figure size 640x480 with 1 Axes>"
      ]
     },
     "metadata": {},
     "output_type": "display_data"
    }
   ],
   "source": [
    "plt.imshow(obs[0,1], cmap='gray_r')"
   ]
  },
  {
   "cell_type": "code",
   "execution_count": null,
   "metadata": {},
   "outputs": [],
   "source": []
  }
 ],
 "metadata": {
  "kernelspec": {
   "display_name": "torch",
   "language": "python",
   "name": "python3"
  },
  "language_info": {
   "codemirror_mode": {
    "name": "ipython",
    "version": 3
   },
   "file_extension": ".py",
   "mimetype": "text/x-python",
   "name": "python",
   "nbconvert_exporter": "python",
   "pygments_lexer": "ipython3",
   "version": "3.9.15"
  }
 },
 "nbformat": 4,
 "nbformat_minor": 2
}
