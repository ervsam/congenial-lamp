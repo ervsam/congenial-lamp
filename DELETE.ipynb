{
 "cells": [
  {
   "cell_type": "code",
   "execution_count": 39,
   "metadata": {},
   "outputs": [
    {
     "data": {
      "text/plain": [
       "800"
      ]
     },
     "execution_count": 39,
     "metadata": {},
     "output_type": "execute_result"
    }
   ],
   "source": [
    "32*25"
   ]
  },
  {
   "cell_type": "code",
   "execution_count": 40,
   "metadata": {},
   "outputs": [
    {
     "name": "stdout",
     "output_type": "stream",
     "text": [
      "torch.Size([32, 25, 2, 7, 7]) torch.Size([32, 25, 2])\n"
     ]
    },
    {
     "data": {
      "text/plain": [
       "torch.Size([800, 2])"
      ]
     },
     "execution_count": 40,
     "metadata": {},
     "output_type": "execute_result"
    }
   ],
   "source": [
    "print(batch_obs[:, :, :-1].shape, torch.tensor([tuple(zip(obs[:, -1, 0, 0], obs[:, -1, 0, 1])) for obs in batch_obs]).shape)\n",
    "\n",
    "batch_coordinates = torch.tensor([tuple(zip(obs[:, -1, 0, 0], obs[:, -1, 0, 1])) for obs in batch_obs])\n",
    "tmp = []\n",
    "for coords in batch_coordinates:\n",
    "    for coord in coords:\n",
    "        tmp.append(coord)\n",
    "batch_coordinates = torch.stack(tmp)\n",
    "batch_coordinates.shape"
   ]
  },
  {
   "cell_type": "code",
   "execution_count": 27,
   "metadata": {},
   "outputs": [
    {
     "data": {
      "text/plain": [
       "(25,\n",
       " ((tensor(1., dtype=torch.float64), tensor(2., dtype=torch.float64)),\n",
       "  (tensor(0., dtype=torch.float64), tensor(0., dtype=torch.float64)),\n",
       "  (tensor(0., dtype=torch.float64), tensor(0., dtype=torch.float64)),\n",
       "  (tensor(0., dtype=torch.float64), tensor(0., dtype=torch.float64)),\n",
       "  (tensor(0., dtype=torch.float64), tensor(0., dtype=torch.float64)),\n",
       "  (tensor(0., dtype=torch.float64), tensor(0., dtype=torch.float64)),\n",
       "  (tensor(0., dtype=torch.float64), tensor(0., dtype=torch.float64)),\n",
       "  (tensor(0., dtype=torch.float64), tensor(0., dtype=torch.float64)),\n",
       "  (tensor(0., dtype=torch.float64), tensor(0., dtype=torch.float64)),\n",
       "  (tensor(0., dtype=torch.float64), tensor(0., dtype=torch.float64)),\n",
       "  (tensor(0., dtype=torch.float64), tensor(0., dtype=torch.float64)),\n",
       "  (tensor(0., dtype=torch.float64), tensor(0., dtype=torch.float64)),\n",
       "  (tensor(0., dtype=torch.float64), tensor(0., dtype=torch.float64)),\n",
       "  (tensor(0., dtype=torch.float64), tensor(0., dtype=torch.float64)),\n",
       "  (tensor(0., dtype=torch.float64), tensor(0., dtype=torch.float64)),\n",
       "  (tensor(0., dtype=torch.float64), tensor(0., dtype=torch.float64)),\n",
       "  (tensor(0., dtype=torch.float64), tensor(0., dtype=torch.float64)),\n",
       "  (tensor(0., dtype=torch.float64), tensor(0., dtype=torch.float64)),\n",
       "  (tensor(0., dtype=torch.float64), tensor(0., dtype=torch.float64)),\n",
       "  (tensor(0., dtype=torch.float64), tensor(0., dtype=torch.float64)),\n",
       "  (tensor(0., dtype=torch.float64), tensor(0., dtype=torch.float64)),\n",
       "  (tensor(0., dtype=torch.float64), tensor(0., dtype=torch.float64)),\n",
       "  (tensor(0., dtype=torch.float64), tensor(0., dtype=torch.float64)),\n",
       "  (tensor(0., dtype=torch.float64), tensor(0., dtype=torch.float64)),\n",
       "  (tensor(0., dtype=torch.float64), tensor(0., dtype=torch.float64))))"
      ]
     },
     "execution_count": 27,
     "metadata": {},
     "output_type": "execute_result"
    }
   ],
   "source": [
    "import numpy as np\n",
    "import torch\n",
    "\n",
    "# b, n, c, h, w\n",
    "# coords in channel 2\n",
    "batch_obs = np.zeros((32, 25, 3, 7, 7))\n",
    "batch_obs[0, 0, 2, 0, 0] = 1\n",
    "batch_obs[0, 0, 2, 0, 1] = 2\n",
    "batch_obs = torch.tensor(batch_obs)\n",
    "\n",
    "coordinates = [tuple(zip(obs[:, -1, 0, 0], obs[:, -1, 0, 1])) for obs in batch_obs]\n",
    "len(coordinates[0]), coordinates[0]"
   ]
  },
  {
   "cell_type": "code",
   "execution_count": 6,
   "metadata": {},
   "outputs": [
    {
     "data": {
      "text/plain": [
       "[[(8, 22)],\n",
       " [(12, 25)],\n",
       " [(20, 37)],\n",
       " [(8, 35)],\n",
       " [(8, 33)],\n",
       " [(28, 35)],\n",
       " [(8, 25)],\n",
       " [(2, 21)],\n",
       " [(2, 17)],\n",
       " [(22, 9)],\n",
       " [(10, 10)],\n",
       " [(30, 15)],\n",
       " [(4, 30)],\n",
       " [(26, 28)],\n",
       " [(22, 33)],\n",
       " [(12, 25)],\n",
       " [(6, 8)],\n",
       " [(6, 14)],\n",
       " [(4, 32)],\n",
       " [(26, 25)],\n",
       " [(18, 20)],\n",
       " [(2, 16)],\n",
       " [(22, 37)],\n",
       " [(30, 17)],\n",
       " [(14, 10)],\n",
       " [(28, 30)],\n",
       " [(22, 10)],\n",
       " [(12, 22)],\n",
       " [(22, 15)],\n",
       " [(28, 35)],\n",
       " [(22, 39)],\n",
       " [(20, 21)],\n",
       " [(8, 21)],\n",
       " [(2, 27)],\n",
       " [(18, 39)],\n",
       " [(6, 37)],\n",
       " [(30, 22)],\n",
       " [(26, 25)],\n",
       " [(32, 9)],\n",
       " [(30, 32)],\n",
       " [(6, 17)],\n",
       " [(8, 11)],\n",
       " [(18, 31)],\n",
       " [(8, 39)],\n",
       " [(24, 23)],\n",
       " [(32, 15)],\n",
       " [(12, 16)],\n",
       " [(28, 23)],\n",
       " [(28, 13)],\n",
       " [(16, 8)],\n",
       " [(12, 33)],\n",
       " [(12, 25)],\n",
       " [(8, 9)],\n",
       " [(2, 30)],\n",
       " [(8, 36)],\n",
       " [(20, 11)],\n",
       " [(22, 10)],\n",
       " [(20, 30)],\n",
       " [(30, 25)],\n",
       " [(2, 9)]]"
      ]
     },
     "execution_count": 6,
     "metadata": {},
     "output_type": "execute_result"
    }
   ],
   "source": [
    "goals = [[(343, 0)], [(530, 0)], [(910, 0)], [(356, 0)], [(354, 0)], [(1276, 0)], [(346, 0)], [(66, 0)], [(62, 0)], [(974, 0)], [(423, 0)], [(1348, 0)], [(167, 0)], [(1177, 0)], [(998, 0)], [(530, 0)], [(237, 0)], [(243, 0)], [(169, 0)], [(1174, 0)], [(801, 0)], [(61, 0)], [(1002, 0)], [(1350, 0)], [(607, 0)], [(1271, 0)], [(975, 0)], [(527, 0)], [(980, 0)], [(1276, 0)], [(1004, 0)], [(894, 0)], [(342, 0)], [(72, 0)], [(820, 0)], [(266, 0)], [(1355, 0)], [(1174, 0)], [(1434, 0)], [(1365, 0)], [(246, 0)], [(332, 0)], [(812, 0)], [(360, 0)], [(1080, 0)], [(1440, 0)], [(521, 0)], [(1264, 0)], [(1254, 0)], [(697, 0)], [(538, 0)], [(530, 0)], [(330, 0)], [(75, 0)], [(357, 0)], [(884, 0)], [(975, 0)], [(903, 0)], [(1358, 0)], [(54, 0)]]\n",
    "\n",
    "col = 46\n",
    "[[(g[0]//col + 1, g[0]%col + 1) for g in goal] for goal in goals]"
   ]
  },
  {
   "cell_type": "code",
   "execution_count": 10,
   "metadata": {},
   "outputs": [
    {
     "data": {
      "text/plain": [
       "'maps/kiva'"
      ]
     },
     "execution_count": 10,
     "metadata": {},
     "output_type": "execute_result"
    }
   ],
   "source": [
    "row, col = [int(i) for i in \"33,46\".strip().split(',')]\n",
    "row, col\n",
    "\n",
    "\"maps/kiva.map\".split('.')[0]"
   ]
  },
  {
   "cell_type": "code",
   "execution_count": 1,
   "metadata": {},
   "outputs": [],
   "source": [
    "import torch\n",
    "from Model import QNetwork\n",
    "\n",
    "# Load your trained model\n",
    "model = QNetwork()  # Replace with your actual model class\n",
    "model.load_state_dict(torch.load('./results/warehouse/q_net_model/q_net_1420000.pth'))\n",
    "# model.eval()\n",
    "\n",
    "# Convert to TorchScript\n",
    "scripted_model = torch.jit.script(model)\n",
    "\n",
    "# Save the TorchScript model\n",
    "scripted_model.save(\"model.pt\")"
   ]
  },
  {
   "cell_type": "code",
   "execution_count": 1,
   "metadata": {},
   "outputs": [
    {
     "name": "stdout",
     "output_type": "stream",
     "text": [
      "[2, 3]\n"
     ]
    }
   ],
   "source": [
    "x = [1,2,3]\n",
    "x.pop(0)\n",
    "print(x)"
   ]
  },
  {
   "cell_type": "code",
   "execution_count": 7,
   "metadata": {},
   "outputs": [
    {
     "ename": "RuntimeError",
     "evalue": "stack expects each tensor to be equal size, but got [1] at entry 0 and [] at entry 1",
     "output_type": "error",
     "traceback": [
      "\u001b[0;31m---------------------------------------------------------------------------\u001b[0m",
      "\u001b[0;31mRuntimeError\u001b[0m                              Traceback (most recent call last)",
      "Cell \u001b[0;32mIn [7], line 7\u001b[0m\n\u001b[1;32m      3\u001b[0m x \u001b[38;5;241m=\u001b[39m torch\u001b[38;5;241m.\u001b[39mtensor([\u001b[38;5;241m1\u001b[39m])\n\u001b[1;32m      5\u001b[0m y \u001b[38;5;241m=\u001b[39m torch\u001b[38;5;241m.\u001b[39mtensor(\u001b[38;5;241m2\u001b[39m)\n\u001b[0;32m----> 7\u001b[0m stacked \u001b[38;5;241m=\u001b[39m \u001b[43mtorch\u001b[49m\u001b[38;5;241;43m.\u001b[39;49m\u001b[43mstack\u001b[49m\u001b[43m(\u001b[49m\u001b[43m[\u001b[49m\u001b[43mx\u001b[49m\u001b[43m,\u001b[49m\u001b[43m \u001b[49m\u001b[43my\u001b[49m\u001b[43m]\u001b[49m\u001b[43m)\u001b[49m\n",
      "\u001b[0;31mRuntimeError\u001b[0m: stack expects each tensor to be equal size, but got [1] at entry 0 and [] at entry 1"
     ]
    }
   ],
   "source": [
    "import torch\n",
    "\n",
    "x = torch.tensor([1])\n",
    "\n",
    "y = torch.tensor(2)\n",
    "\n",
    "stacked = torch.stack([x, y])"
   ]
  },
  {
   "cell_type": "code",
   "execution_count": null,
   "metadata": {},
   "outputs": [
    {
     "data": {
      "text/plain": [
       "(0, 1)"
      ]
     },
     "execution_count": 29,
     "metadata": {},
     "output_type": "execute_result"
    }
   ],
   "source": [
    "x = [1,2,3,4,5,6]\n",
    "\n",
    "int(x.index(1) > x.index(2)), int(x.index(2) > x.index(1))"
   ]
  },
  {
   "cell_type": "markdown",
   "metadata": {},
   "source": [
    "# reward function"
   ]
  },
  {
   "cell_type": "code",
   "execution_count": 18,
   "metadata": {},
   "outputs": [
    {
     "data": {
      "text/plain": [
       "[<matplotlib.lines.Line2D at 0x7f89984d4f10>]"
      ]
     },
     "execution_count": 18,
     "metadata": {},
     "output_type": "execute_result"
    },
    {
     "data": {
      "image/png": "[encoded data removed]",
      "text/plain": [
       "<Figure size 640x480 with 1 Axes>"
      ]
     },
     "metadata": {},
     "output_type": "display_data"
    }
   ],
   "source": [
    "import numpy as np\n",
    "import matplotlib.pyplot as plt\n",
    "\n",
    "\n",
    "rew = range(40)\n",
    "a = 1.1\n",
    "\n",
    "# plot a^r\n",
    "plt.plot([(a ** -r)*10 for r in rew])"
   ]
  },
  {
   "cell_type": "code",
   "execution_count": 17,
   "metadata": {},
   "outputs": [
    {
     "data": {
      "text/plain": [
       "[<matplotlib.lines.Line2D at 0x7f89985110d0>]"
      ]
     },
     "execution_count": 17,
     "metadata": {},
     "output_type": "execute_result"
    },
    {
     "data": {
      "image/png": "[encoded data removed]",
      "text/plain": [
       "<Figure size 640x480 with 1 Axes>"
      ]
     },
     "metadata": {},
     "output_type": "display_data"
    }
   ],
   "source": [
    "plt.plot([10 / (r + 1) for r in rew])"
   ]
  },
  {
   "cell_type": "code",
   "execution_count": 21,
   "metadata": {},
   "outputs": [
    {
     "data": {
      "image/png": "[encoded data removed]",
      "text/plain": [
       "<Figure size 800x500 with 1 Axes>"
      ]
     },
     "metadata": {},
     "output_type": "display_data"
    }
   ],
   "source": [
    "iterations = range(1000)\n",
    "losses = [50 / (1 + 0.1*i) for i in iterations]  # example decreasing losses\n",
    "\n",
    "plt.figure(figsize=(8, 5))\n",
    "plt.plot(iterations, losses, label='Loss')\n",
    "plt.yscale('log')\n",
    "plt.xlabel('Iteration')\n",
    "plt.ylabel('Loss (log scale)')\n",
    "plt.title('Training Loss Over Iterations')\n",
    "plt.legend()\n",
    "plt.show()"
   ]
  },
  {
   "cell_type": "markdown",
   "metadata": {},
   "source": [
    "# saving files if dir does not exist yet"
   ]
  },
  {
   "cell_type": "code",
   "execution_count": 2,
   "metadata": {},
   "outputs": [],
   "source": [
    "import numpy as np\n",
    "import os\n",
    "\n",
    "x = np.array([1, 2, 3, 4, 5])\n",
    "\n",
    "# check if directory exists\n",
    "if not os.path.exists('test/test1'):\n",
    "    os.makedirs('test/test1')\n",
    "\n",
    "if not os.path.exists('test/test1/x.npy'):\n",
    "    np.save('test/test1/x.npy', x)"
   ]
  },
  {
   "cell_type": "markdown",
   "metadata": {},
   "source": [
    "# Generate Warehouse map"
   ]
  },
  {
   "cell_type": "code",
   "execution_count": 1,
   "metadata": {},
   "outputs": [],
   "source": [
    "import numpy as np\n",
    "\n",
    "import matplotlib.pyplot as plt\n",
    "from matplotlib.colors import ListedColormap\n",
    "\n",
    "# Define the colormap\n",
    "cmap = ListedColormap([\"white\", \"black\", \"yellow\", \"red\"])"
   ]
  },
  {
   "cell_type": "code",
   "execution_count": 129,
   "metadata": {},
   "outputs": [],
   "source": [
    "def generate_warehouse(rows, cols, num_agents, num_goals, seed=None):\n",
    "    np.random.seed(seed)\n",
    "\n",
    "    people = np.array(\n",
    "        [[2,2,0,2,2],\n",
    "        [2,2,0,2,2],\n",
    "        [2,2,0,2,2],\n",
    "        ]\n",
    "    )\n",
    "\n",
    "    shelves = np.array(\n",
    "        [[3]*10,\n",
    "        [1]*10,\n",
    "        [3]*10,\n",
    "        ]\n",
    "    )\n",
    "\n",
    "    hall_ver = np.array(\n",
    "        [[0],\n",
    "        [0],\n",
    "        [0],\n",
    "        ]\n",
    "    )\n",
    "\n",
    "    row = people\n",
    "\n",
    "    for j in range(cols):\n",
    "        row = np.concatenate((row, hall_ver, shelves), axis=1)\n",
    "\n",
    "    row = np.concatenate((row, hall_ver, people), axis=1)\n",
    "\n",
    "    hall_hor = np.array(\n",
    "        [[0]*len(row[0])]\n",
    "    )\n",
    "\n",
    "    warehouse = row\n",
    "\n",
    "    for i in range(rows-1):\n",
    "        warehouse = np.concatenate((warehouse, hall_hor, row), axis=0)\n",
    "\n",
    "    # pad the warehouse with a row of zeros\n",
    "    warehouse = np.pad(warehouse, 1, 'constant')\n",
    "\n",
    "    plt.imshow(warehouse, cmap=cmap, vmin=0, vmax=3)\n",
    "\n",
    "\n",
    "    # generate random starts and goals\n",
    "    station_locs = np.where(warehouse == 2)\n",
    "    station_locs = np.array(list(zip(station_locs[0], station_locs[1])))\n",
    "\n",
    "    # get possible goal locations\n",
    "    shelves_locs = np.where(warehouse == 3)\n",
    "    shelves_locs = np.array(list(zip(shelves_locs[0], shelves_locs[1])))\n",
    "\n",
    "    # generate randomly selected start and goal locations\n",
    "    np.random.shuffle(station_locs)\n",
    "    np.random.shuffle(shelves_locs)\n",
    "\n",
    "    start_locs = station_locs[:num_agents]\n",
    "\n",
    "    rng = np.random.default_rng()\n",
    "    rng.shuffle(shelves_locs)\n",
    "    goal_locs = np.array([[i] for i in shelves_locs[:num_agents].copy()])\n",
    "    for i in range(num_goals):\n",
    "        rng.shuffle(shelves_locs)\n",
    "        new_shelves = shelves_locs[:num_agents].copy()\n",
    "        goal_locs = np.concatenate((goal_locs, new_shelves[:, None, :]), axis=1)\n",
    "\n",
    "    return warehouse, start_locs, goal_locs"
   ]
  },
  {
   "cell_type": "code",
   "execution_count": 134,
   "metadata": {},
   "outputs": [
    {
     "data": {
      "image/png": "[encoded data removed]",
      "text/plain": [
       "<Figure size 640x480 with 1 Axes>"
      ]
     },
     "metadata": {},
     "output_type": "display_data"
    }
   ],
   "source": [
    "ROWS = 4\n",
    "COLS = 2\n",
    "\n",
    "warehouse, start_locs, goal_locs = generate_warehouse(ROWS, COLS, num_agents=2, num_goals=15, seed=0)"
   ]
  },
  {
   "cell_type": "markdown",
   "metadata": {},
   "source": [
    "# Softmax"
   ]
  },
  {
   "cell_type": "code",
   "execution_count": 20,
   "metadata": {},
   "outputs": [],
   "source": [
    "import torch\n",
    "import torch.nn.functional as F\n",
    "\n",
    "import numpy as np"
   ]
  },
  {
   "cell_type": "code",
   "execution_count": 25,
   "metadata": {},
   "outputs": [
    {
     "data": {
      "text/plain": [
       "tensor([[45.6609, 54.3391],\n",
       "        [35.9623, 64.0377],\n",
       "        [76.8525, 23.1475],\n",
       "        [31.7345, 68.2655],\n",
       "        [73.7110, 26.2890],\n",
       "        [76.7991, 23.2009],\n",
       "        [51.5995, 48.4005],\n",
       "        [50.6250, 49.3750],\n",
       "        [51.9989, 48.0011]])"
      ]
     },
     "execution_count": 25,
     "metadata": {},
     "output_type": "execute_result"
    }
   ],
   "source": [
    "F.softmax(torch.tensor([[-0.039,  0.135],\n",
    "[-0.215,  0.362],\n",
    "[ 0.577, -0.623],\n",
    "[-0.323,  0.443],\n",
    "[ 0.473, -0.558],\n",
    "[ 0.588, -0.609],\n",
    "[-0.031, -0.095],\n",
    "[-0.049, -0.074],\n",
    "[-0.013, -0.093]]), dim=1)*100"
   ]
  },
  {
   "cell_type": "code",
   "execution_count": 24,
   "metadata": {},
   "outputs": [
    {
     "data": {
      "text/plain": [
       "tensor([[42.4824, 57.5176],\n",
       "        [35.8243, 64.1757],\n",
       "        [76.1333, 23.8667],\n",
       "        [34.2764, 65.7236],\n",
       "        [74.8570, 25.1430],\n",
       "        [77.0299, 22.9701],\n",
       "        [54.5375, 45.4625],\n",
       "        [52.6974, 47.3026],\n",
       "        [53.5192, 46.4808]])"
      ]
     },
     "execution_count": 24,
     "metadata": {},
     "output_type": "execute_result"
    }
   ],
   "source": [
    "F.softmax(torch.tensor([[-0.086,  0.217],\n",
    "[-0.205,  0.378],\n",
    "[ 0.57, -0.59],\n",
    "[-0.251,  0.4],\n",
    "[ 0.527, -0.564],\n",
    "[ 0.609, -0.601],\n",
    "[ 0.046, -0.136],\n",
    "[ 0.012, -0.096],\n",
    "[ 0.038, -0.103]]), dim=1)*100"
   ]
  },
  {
   "cell_type": "code",
   "execution_count": 13,
   "metadata": {},
   "outputs": [],
   "source": [
    "starts = [(1,2),(2,3),(3,4)]\n",
    "goals = [[(3,3),(4,4),(5,5)]]\n",
    "\n",
    "x = {}"
   ]
  },
  {
   "cell_type": "code",
   "execution_count": 15,
   "metadata": {},
   "outputs": [],
   "source": [
    "x[tuple(starts)] = {}"
   ]
  },
  {
   "cell_type": "code",
   "execution_count": 16,
   "metadata": {},
   "outputs": [],
   "source": [
    "x[tuple(starts)][tuple([tuple(x) for x in goals])] = 0"
   ]
  },
  {
   "cell_type": "code",
   "execution_count": 17,
   "metadata": {},
   "outputs": [
    {
     "data": {
      "text/plain": [
       "0"
      ]
     },
     "execution_count": 17,
     "metadata": {},
     "output_type": "execute_result"
    }
   ],
   "source": [
    "x[tuple(starts)][tuple([tuple(x) for x in goals])]"
   ]
  },
  {
   "cell_type": "markdown",
   "metadata": {},
   "source": [
    "# CONFIG FILE"
   ]
  },
  {
   "cell_type": "code",
   "execution_count": 6,
   "metadata": {},
   "outputs": [
    {
     "data": {
      "text/plain": [
       "{'BATCH_SIZE': 32,\n",
       " 'LAMBDA': 1,\n",
       " 'LR': '1e-4',\n",
       " 'BUFFER_SIZE': 10000,\n",
       " 'TRAIN_STEPS': '1e10',\n",
       " 'N_ACTIONS': 2}"
      ]
     },
     "execution_count": 6,
     "metadata": {},
     "output_type": "execute_result"
    }
   ],
   "source": [
    "import yaml\n",
    "\n",
    "# Load the YAML config file\n",
    "with open(\"config.yaml\", \"r\") as file:\n",
    "    config = yaml.safe_load(file)\n",
    "\n",
    "# Access values\n",
    "BATCH_SIZE = config[\"training\"]\n",
    "BATCH_SIZE"
   ]
  },
  {
   "cell_type": "markdown",
   "metadata": {},
   "source": [
    "# FOV"
   ]
  },
  {
   "cell_type": "code",
   "execution_count": 9,
   "metadata": {},
   "outputs": [],
   "source": [
    "import numpy as np\n",
    "import matplotlib.pyplot as plt"
   ]
  },
  {
   "cell_type": "code",
   "execution_count": 39,
   "metadata": {},
   "outputs": [],
   "source": [
    "num_agents = 3\n",
    "obs_radius = 7\n",
    "\n",
    "obs = np.zeros((num_agents, 6, 2*obs_radius+1, 2*obs_radius+1), dtype=bool)"
   ]
  },
  {
   "cell_type": "code",
   "execution_count": 50,
   "metadata": {},
   "outputs": [
    {
     "data": {
      "text/plain": [
       "<matplotlib.image.AxesImage at 0x7f74fc38fa30>"
      ]
     },
     "execution_count": 50,
     "metadata": {},
     "output_type": "execute_result"
    },
    {
     "data": {
      "image/png": "[encoded data removed]",
      "text/plain": [
       "<Figure size 640x480 with 1 Axes>"
      ]
     },
     "metadata": {},
     "output_type": "display_data"
    }
   ],
   "source": [
    "map_size = (15, 15)\n",
    "grid_map = np.random.randint(2, size=map_size)\n",
    "plt.imshow(grid_map, cmap='gray_r')"
   ]
  },
  {
   "cell_type": "code",
   "execution_count": 51,
   "metadata": {},
   "outputs": [
    {
     "data": {
      "text/plain": [
       "<matplotlib.image.AxesImage at 0x7f74fc3054c0>"
      ]
     },
     "execution_count": 51,
     "metadata": {},
     "output_type": "execute_result"
    },
    {
     "data": {
      "image/png": "[encoded data removed]",
      "text/plain": [
       "<Figure size 640x480 with 1 Axes>"
      ]
     },
     "metadata": {},
     "output_type": "display_data"
    }
   ],
   "source": [
    "obstacle_map = np.pad(grid_map, obs_radius, 'constant', constant_values=0)\n",
    "plt.imshow(obstacle_map, cmap='gray_r')"
   ]
  },
  {
   "cell_type": "code",
   "execution_count": 52,
   "metadata": {},
   "outputs": [
    {
     "data": {
      "text/plain": [
       "<matplotlib.image.AxesImage at 0x7f74fc2da2e0>"
      ]
     },
     "execution_count": 52,
     "metadata": {},
     "output_type": "execute_result"
    },
    {
     "data": {
      "image/png": "[encoded data removed]",
      "text/plain": [
       "<Figure size 640x480 with 1 Axes>"
      ]
     },
     "metadata": {},
     "output_type": "display_data"
    }
   ],
   "source": [
    "agents_pos = np.random.randint(1, map_size[0]-1, size=(num_agents, 2))\n",
    "agent_map = np.zeros((map_size), dtype=bool)\n",
    "agent_map[agents_pos[:,0], agents_pos[:,1]] = 1\n",
    "agent_map = np.pad(agent_map, obs_radius, 'constant', constant_values=0)\n",
    "plt.imshow(agent_map, cmap='gray_r')"
   ]
  },
  {
   "cell_type": "code",
   "execution_count": 53,
   "metadata": {},
   "outputs": [],
   "source": [
    "# 1. neighboring agents\n",
    "# 2. obstacle_map\n",
    "# 3. heuri_map\n",
    "\n",
    "for i, agent_pos in enumerate(agents_pos):\n",
    "    x, y = agent_pos\n",
    "    obs[i, 0] = agent_map[x:x+2*obs_radius+1, y:y+2*obs_radius+1]\n",
    "    obs[i, 0, obs_radius, obs_radius] = 0\n",
    "    obs[i, 1] = obstacle_map[x:x+2*obs_radius+1, y:y+2*obs_radius+1]\n",
    "    # obs[i, 2:] = heuri_map[i, :, x:x+2*obs_radius+1, y:y+2*obs_radius+1]"
   ]
  },
  {
   "cell_type": "code",
   "execution_count": 54,
   "metadata": {},
   "outputs": [
    {
     "data": {
      "text/plain": [
       "array([4, 8])"
      ]
     },
     "execution_count": 54,
     "metadata": {},
     "output_type": "execute_result"
    }
   ],
   "source": [
    "agents_pos[0]"
   ]
  },
  {
   "cell_type": "code",
   "execution_count": 57,
   "metadata": {},
   "outputs": [
    {
     "data": {
      "text/plain": [
       "<matplotlib.image.AxesImage at 0x7f74fc1f2bb0>"
      ]
     },
     "execution_count": 57,
     "metadata": {},
     "output_type": "execute_result"
    },
    {
     "data": {
      "image/png": "[encoded data removed]",
      "text/plain": [
       "<Figure size 640x480 with 1 Axes>"
      ]
     },
     "metadata": {},
     "output_type": "display_data"
    }
   ],
   "source": [
    "plt.imshow(obs[0,1], cmap='gray_r')"
   ]
  },
  {
   "cell_type": "code",
   "execution_count": null,
   "metadata": {},
   "outputs": [],
   "source": []
  }
 ],
 "metadata": {
  "kernelspec": {
   "display_name": "torch",
   "language": "python",
   "name": "python3"
  },
  "language_info": {
   "codemirror_mode": {
    "name": "ipython",
    "version": 3
   },
   "file_extension": ".py",
   "mimetype": "text/x-python",
   "name": "python",
   "nbconvert_exporter": "python",
   "pygments_lexer": "ipython3",
   "version": "3.9.15"
  }
 },
 "nbformat": 4,
 "nbformat_minor": 2
}
