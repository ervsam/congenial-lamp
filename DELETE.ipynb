{
 "cells": [
  {
   "cell_type": "code",
   "execution_count": 1,
   "metadata": {},
   "outputs": [
    {
     "name": "stdout",
     "output_type": "stream",
     "text": [
      "Train set: [1, 2, 3, 4, 5, 7, 8, 9]\n",
      "Test set: [0, 6]\n",
      "Train set: [1, 2, 3, 4, 5, 7, 8, 11, 12, 13, 14, 15, 16, 17, 18, 19]\n",
      "Test set: [0, 6, 10, 9]\n"
     ]
    }
   ],
   "source": [
    "import numpy as np\n",
    "\n",
    "dataset = np.array([0,1,2,3,4,5,6,7,8,9])\n",
    "split = int(0.2 * len(dataset))\n",
    "indices = np.random.choice(len(dataset), size=split, replace=False)\n",
    "\n",
    "# train_set = dataset[~np.isin(np.arange(len(dataset)), indices)]\n",
    "# test_set = dataset[indices]\n",
    "\n",
    "train_indices = list(set(range(len(dataset))) - set(indices))\n",
    "train_set = [dataset[i] for i in train_indices]\n",
    "test_set = [dataset[i] for i in indices]\n",
    "\n",
    "print(\"Train set:\", train_set)\n",
    "print(\"Test set:\", test_set)\n",
    "\n",
    "# Simulate dataset growth\n",
    "dataset = np.append(dataset, [10, 11, 12, 13, 14, 15, 16, 17, 18, 19])\n",
    "\n",
    "# Adjust indices for the larger dataset\n",
    "split = int(0.2 * len(dataset))\n",
    "existing = set(indices)\n",
    "needed = split - len(indices)\n",
    "if needed > 0:\n",
    "    available = list(set(range(len(dataset))) - existing)\n",
    "    indices = np.concatenate([indices, np.random.choice(available, size=needed, replace=False)])\n",
    "\n",
    "train_indices = list(set(range(len(dataset))) - set(indices))\n",
    "train_set = [dataset[i] for i in train_indices]\n",
    "test_set = [dataset[i] for i in indices]\n",
    "\n",
    "# train_set = dataset[~np.isin(np.arange(len(dataset)), indices)]\n",
    "# test_set = dataset[indices]\n",
    "\n",
    "print(\"Train set:\", train_set)\n",
    "print(\"Test set:\", test_set)"
   ]
  },
  {
   "cell_type": "markdown",
   "metadata": {},
   "source": [
    "# softmax"
   ]
  },
  {
   "cell_type": "code",
   "execution_count": 5,
   "metadata": {},
   "outputs": [
    {
     "data": {
      "text/plain": [
       "tensor([[0.9602, 0.0398],\n",
       "        [0.9395, 0.0605],\n",
       "        [0.7474, 0.2526],\n",
       "        [0.8753, 0.1247],\n",
       "        [0.4431, 0.5569],\n",
       "        [0.8333, 0.1667],\n",
       "        [0.5949, 0.4051],\n",
       "        [0.8592, 0.1408],\n",
       "        [0.8067, 0.1933],\n",
       "        [0.4500, 0.5500],\n",
       "        [0.6274, 0.3726],\n",
       "        [0.3561, 0.6439],\n",
       "        [0.7940, 0.2060],\n",
       "        [0.4841, 0.5159],\n",
       "        [0.2638, 0.7362],\n",
       "        [0.2891, 0.7109]])"
      ]
     },
     "execution_count": 5,
     "metadata": {},
     "output_type": "execute_result"
    }
   ],
   "source": [
    "tmp = [\n",
    "        [ 1.3933e+00, -1.7888e+00],\n",
    "        [ 1.1982e+00, -1.5443e+00],\n",
    "        [ 4.4996e-01, -6.3498e-01],\n",
    "        [ 8.3737e-01, -1.1116e+00],\n",
    "        [-1.4096e-01,  8.7677e-02],\n",
    "        [ 7.0414e-01, -9.0529e-01],\n",
    "        [ 1.3783e-01, -2.4636e-01],\n",
    "        [ 7.9157e-01, -1.0170e+00],\n",
    "        [ 6.2291e-01, -8.0565e-01],\n",
    "        [-1.2596e-01,  7.4609e-02],\n",
    "        [ 2.0108e-01, -3.1999e-01],\n",
    "        [-2.9866e-01,  2.9349e-01],\n",
    "        [ 5.8798e-01, -7.6095e-01],\n",
    "        [-6.2754e-02,  9.0338e-04],\n",
    "        [-4.9592e-01,  5.3039e-01],\n",
    "        [-4.3970e-01,  4.6003e-01]]\n",
    "\n",
    "import torch.nn.functional as F\n",
    "import torch\n",
    "probs = F.softmax(torch.tensor((tmp), dtype=torch.float32), dim=1)\n",
    "probs"
   ]
  },
  {
   "cell_type": "markdown",
   "metadata": {},
   "source": [
    "# WeightedRandomSampler"
   ]
  },
  {
   "cell_type": "code",
   "execution_count": 19,
   "metadata": {},
   "outputs": [],
   "source": [
    "from torch.utils.data import Dataset, DataLoader, WeightedRandomSampler\n",
    "import pickle\n",
    "import numpy as np\n",
    "\n",
    "class OfflineDataset(Dataset):\n",
    "    def __init__(self, filename):\n",
    "        self.experiences = pickle.load(open(filename,'rb'))\n",
    "        self.priorities = np.ones(len(self.experiences), dtype=np.float32)\n",
    "    def __len__(self):\n",
    "        return len(self.experiences)\n",
    "    def __getitem__(self, idx):\n",
    "        return self.experiences[idx]\n",
    "\n",
    "# 2) Write a trivial collate_fn that just zips your list of 7-tuples\n",
    "def collate_fn(batch):\n",
    "    # batch is List[ Tuple7 ], we want Tuple7 of Lists\n",
    "    return tuple( list(x) for x in zip(*batch) )\n",
    "\n",
    "# 3) Create your DataLoader with sampler + collate_fn\n",
    "dataset = OfflineDataset(\"results/warehouse_2_dataset/dataset.pkl\")\n",
    "weights = dataset.priorities + 1e-8\n",
    "sampler = WeightedRandomSampler(weights, num_samples=len(dataset), replacement=True)\n",
    "loader  = DataLoader(\n",
    "    dataset,\n",
    "    batch_size=2,\n",
    "    sampler=sampler,\n",
    "    collate_fn=collate_fn,\n",
    "    pin_memory=True,\n",
    ")\n"
   ]
  },
  {
   "cell_type": "code",
   "execution_count": 20,
   "metadata": {},
   "outputs": [
    {
     "name": "stdout",
     "output_type": "stream",
     "text": [
      "2\n",
      "torch.Size([70, 8, 11, 11])\n"
     ]
    }
   ],
   "source": [
    "# 4) Now iterate without KeyErrors:\n",
    "for obs_fovs, partial_prio, global_reward, local_rewards, groups, starts, goals in loader:\n",
    "    # obs_fovs: List[Tensor] of length batch_size\n",
    "    # partial_prio: List[dict]   ...\n",
    "    # global_reward: List[float]\n",
    "    # ...\n",
    "    # convert global_reward to a tensor\n",
    "    # global_reward = torch.tensor(global_reward, dtype=torch.float32, device=device)\n",
    "    # and so on—pass these batches to trainer.optimize()\n",
    "\n",
    "    print(len(obs_fovs))\n",
    "    print(obs_fovs[0].shape)\n",
    "    break"
   ]
  },
  {
   "cell_type": "code",
   "execution_count": null,
   "metadata": {},
   "outputs": [],
   "source": [
    "# ---- 4. Training Loop ----\n",
    "num_epochs = 10\n",
    "for epoch in range(num_epochs):\n",
    "    epoch_loss = 0.0\n",
    "    for batch in loader:\n",
    "        # Unpack the batch of experiences\n",
    "        obs_fovs, partial_prio, global_reward, local_rewards, groups, starts, goals = zip(*batch)\n",
    "\n",
    "        # Convert global_reward list to tensor\n",
    "        global_reward = torch.tensor(global_reward, dtype=torch.float32, device=trainer.device)\n",
    "\n",
    "        # Zero out gradients\n",
    "        optimizer.zero_grad()\n",
    "\n",
    "        # Perform one training step: returns total loss and per-experience TD errors\n",
    "        loss, td_errors = trainer.optimize(\n",
    "            obs_fovs, partial_prio, global_reward,\n",
    "            local_rewards, groups, starts, goals\n",
    "        )\n",
    "\n",
    "        # Backpropagate and update weights\n",
    "        loss.backward()\n",
    "        optimizer.step()\n",
    "\n",
    "        epoch_loss += loss.item()\n",
    "\n",
    "    avg_loss = epoch_loss / len(loader)\n",
    "    print(f\"Epoch {epoch+1}/{num_epochs} - Avg Loss: {avg_loss:.4f}\")\n",
    "\n",
    "    # Optionally update sampler weights with new td_errors:\n",
    "    # e.g. dataset.priorities[...] = updated_priorities_based_on(td_errors)\n",
    "    # sampler.weights = dataset.priorities  # if your sampler supports dynamic updates"
   ]
  },
  {
   "cell_type": "markdown",
   "metadata": {},
   "source": [
    "# Torchviz model visualization"
   ]
  },
  {
   "cell_type": "code",
   "execution_count": 3,
   "metadata": {},
   "outputs": [
    {
     "data": {
      "image/svg+xml": [
       "<?xml version=\"1.0\" encoding=\"UTF-8\" standalone=\"no\"?>\n",
       "<!DOCTYPE svg PUBLIC \"-//W3C//DTD SVG 1.1//EN\"\n",
       " \"http://www.w3.org/Graphics/SVG/1.1/DTD/svg11.dtd\">\n",
       "<!-- Generated by graphviz version 2.43.0 (0)\n",
       " -->\n",
       "<!-- Title: %3 Pages: 1 -->\n",
       "<svg width=\"340pt\" height=\"413pt\"\n",
       " viewBox=\"0.00 0.00 340.00 413.00\" xmlns=\"http://www.w3.org/2000/svg\" xmlns:xlink=\"http://www.w3.org/1999/xlink\">\n",
       "<g id=\"graph0\" class=\"graph\" transform=\"scale(1 1) rotate(0) translate(4 409)\">\n",
       "<title>%3</title>\n",
       "<polygon fill=\"white\" stroke=\"transparent\" points=\"-4,4 -4,-409 336,-409 336,4 -4,4\"/>\n",
       "<!-- 139743273347888 -->\n",
       "<g id=\"node1\" class=\"node\">\n",
       "<title>139743273347888</title>\n",
       "<polygon fill=\"#caff70\" stroke=\"black\" points=\"196,-31 137,-31 137,0 196,0 196,-31\"/>\n",
       "<text text-anchor=\"middle\" x=\"166.5\" y=\"-7\" font-family=\"monospace\" font-size=\"10.00\"> (4, 1)</text>\n",
       "</g>\n",
       "<!-- 139743273319440 -->\n",
       "<g id=\"node2\" class=\"node\">\n",
       "<title>139743273319440</title>\n",
       "<polygon fill=\"lightgrey\" stroke=\"black\" points=\"217,-86 116,-86 116,-67 217,-67 217,-86\"/>\n",
       "<text text-anchor=\"middle\" x=\"166.5\" y=\"-74\" font-family=\"monospace\" font-size=\"10.00\">AddmmBackward0</text>\n",
       "</g>\n",
       "<!-- 139743273319440&#45;&gt;139743273347888 -->\n",
       "<g id=\"edge13\" class=\"edge\">\n",
       "<title>139743273319440&#45;&gt;139743273347888</title>\n",
       "<path fill=\"none\" stroke=\"black\" d=\"M166.5,-66.79C166.5,-60.07 166.5,-50.4 166.5,-41.34\"/>\n",
       "<polygon fill=\"black\" stroke=\"black\" points=\"170,-41.19 166.5,-31.19 163,-41.19 170,-41.19\"/>\n",
       "</g>\n",
       "<!-- 139743273317424 -->\n",
       "<g id=\"node3\" class=\"node\">\n",
       "<title>139743273317424</title>\n",
       "<polygon fill=\"lightgrey\" stroke=\"black\" points=\"101,-141 0,-141 0,-122 101,-122 101,-141\"/>\n",
       "<text text-anchor=\"middle\" x=\"50.5\" y=\"-129\" font-family=\"monospace\" font-size=\"10.00\">AccumulateGrad</text>\n",
       "</g>\n",
       "<!-- 139743273317424&#45;&gt;139743273319440 -->\n",
       "<g id=\"edge1\" class=\"edge\">\n",
       "<title>139743273317424&#45;&gt;139743273319440</title>\n",
       "<path fill=\"none\" stroke=\"black\" d=\"M69.14,-121.98C87.8,-113.46 116.75,-100.23 138.24,-90.41\"/>\n",
       "<polygon fill=\"black\" stroke=\"black\" points=\"139.88,-93.51 147.52,-86.17 136.97,-87.14 139.88,-93.51\"/>\n",
       "</g>\n",
       "<!-- 139739746094512 -->\n",
       "<g id=\"node4\" class=\"node\">\n",
       "<title>139739746094512</title>\n",
       "<polygon fill=\"lightblue\" stroke=\"black\" points=\"83,-207 18,-207 18,-177 83,-177 83,-207\"/>\n",
       "<text text-anchor=\"middle\" x=\"50.5\" y=\"-195\" font-family=\"monospace\" font-size=\"10.00\">fc2.bias</text>\n",
       "<text text-anchor=\"middle\" x=\"50.5\" y=\"-184\" font-family=\"monospace\" font-size=\"10.00\"> (1)</text>\n",
       "</g>\n",
       "<!-- 139739746094512&#45;&gt;139743273317424 -->\n",
       "<g id=\"edge2\" class=\"edge\">\n",
       "<title>139739746094512&#45;&gt;139743273317424</title>\n",
       "<path fill=\"none\" stroke=\"black\" d=\"M50.5,-176.84C50.5,-169.21 50.5,-159.7 50.5,-151.45\"/>\n",
       "<polygon fill=\"black\" stroke=\"black\" points=\"54,-151.27 50.5,-141.27 47,-151.27 54,-151.27\"/>\n",
       "</g>\n",
       "<!-- 139743273319104 -->\n",
       "<g id=\"node5\" class=\"node\">\n",
       "<title>139743273319104</title>\n",
       "<polygon fill=\"lightgrey\" stroke=\"black\" points=\"214,-141 119,-141 119,-122 214,-122 214,-141\"/>\n",
       "<text text-anchor=\"middle\" x=\"166.5\" y=\"-129\" font-family=\"monospace\" font-size=\"10.00\">ReluBackward0</text>\n",
       "</g>\n",
       "<!-- 139743273319104&#45;&gt;139743273319440 -->\n",
       "<g id=\"edge3\" class=\"edge\">\n",
       "<title>139743273319104&#45;&gt;139743273319440</title>\n",
       "<path fill=\"none\" stroke=\"black\" d=\"M166.5,-121.75C166.5,-114.8 166.5,-104.85 166.5,-96.13\"/>\n",
       "<polygon fill=\"black\" stroke=\"black\" points=\"170,-96.09 166.5,-86.09 163,-96.09 170,-96.09\"/>\n",
       "</g>\n",
       "<!-- 139739746130576 -->\n",
       "<g id=\"node6\" class=\"node\">\n",
       "<title>139739746130576</title>\n",
       "<polygon fill=\"lightgrey\" stroke=\"black\" points=\"213,-201.5 112,-201.5 112,-182.5 213,-182.5 213,-201.5\"/>\n",
       "<text text-anchor=\"middle\" x=\"162.5\" y=\"-189.5\" font-family=\"monospace\" font-size=\"10.00\">AddmmBackward0</text>\n",
       "</g>\n",
       "<!-- 139739746130576&#45;&gt;139743273319104 -->\n",
       "<g id=\"edge4\" class=\"edge\">\n",
       "<title>139739746130576&#45;&gt;139743273319104</title>\n",
       "<path fill=\"none\" stroke=\"black\" d=\"M163.09,-182.37C163.65,-174.25 164.5,-161.81 165.21,-151.39\"/>\n",
       "<polygon fill=\"black\" stroke=\"black\" points=\"168.72,-151.38 165.91,-141.17 161.73,-150.91 168.72,-151.38\"/>\n",
       "</g>\n",
       "<!-- 139739746130528 -->\n",
       "<g id=\"node7\" class=\"node\">\n",
       "<title>139739746130528</title>\n",
       "<polygon fill=\"lightgrey\" stroke=\"black\" points=\"118,-267.5 17,-267.5 17,-248.5 118,-248.5 118,-267.5\"/>\n",
       "<text text-anchor=\"middle\" x=\"67.5\" y=\"-255.5\" font-family=\"monospace\" font-size=\"10.00\">AccumulateGrad</text>\n",
       "</g>\n",
       "<!-- 139739746130528&#45;&gt;139739746130576 -->\n",
       "<g id=\"edge5\" class=\"edge\">\n",
       "<title>139739746130528&#45;&gt;139739746130576</title>\n",
       "<path fill=\"none\" stroke=\"black\" d=\"M80.31,-248.37C95.89,-237.87 122.43,-220 141.12,-207.4\"/>\n",
       "<polygon fill=\"black\" stroke=\"black\" points=\"143.25,-210.19 149.59,-201.7 139.34,-204.38 143.25,-210.19\"/>\n",
       "</g>\n",
       "<!-- 139739746165360 -->\n",
       "<g id=\"node8\" class=\"node\">\n",
       "<title>139739746165360</title>\n",
       "<polygon fill=\"lightblue\" stroke=\"black\" points=\"100,-339 35,-339 35,-309 100,-309 100,-339\"/>\n",
       "<text text-anchor=\"middle\" x=\"67.5\" y=\"-327\" font-family=\"monospace\" font-size=\"10.00\">fc1.bias</text>\n",
       "<text text-anchor=\"middle\" x=\"67.5\" y=\"-316\" font-family=\"monospace\" font-size=\"10.00\"> (32)</text>\n",
       "</g>\n",
       "<!-- 139739746165360&#45;&gt;139739746130528 -->\n",
       "<g id=\"edge6\" class=\"edge\">\n",
       "<title>139739746165360&#45;&gt;139739746130528</title>\n",
       "<path fill=\"none\" stroke=\"black\" d=\"M67.5,-308.8C67.5,-299.7 67.5,-287.79 67.5,-277.9\"/>\n",
       "<polygon fill=\"black\" stroke=\"black\" points=\"71,-277.84 67.5,-267.84 64,-277.84 71,-277.84\"/>\n",
       "</g>\n",
       "<!-- 139739746131152 -->\n",
       "<g id=\"node9\" class=\"node\">\n",
       "<title>139739746131152</title>\n",
       "<polygon fill=\"lightgrey\" stroke=\"black\" points=\"213,-267.5 136,-267.5 136,-248.5 213,-248.5 213,-267.5\"/>\n",
       "<text text-anchor=\"middle\" x=\"174.5\" y=\"-255.5\" font-family=\"monospace\" font-size=\"10.00\">TBackward0</text>\n",
       "</g>\n",
       "<!-- 139739746131152&#45;&gt;139739746130576 -->\n",
       "<g id=\"edge7\" class=\"edge\">\n",
       "<title>139739746131152&#45;&gt;139739746130576</title>\n",
       "<path fill=\"none\" stroke=\"black\" d=\"M172.88,-248.37C171.14,-239.07 168.31,-223.98 166.04,-211.9\"/>\n",
       "<polygon fill=\"black\" stroke=\"black\" points=\"169.45,-211.09 164.17,-201.91 162.57,-212.38 169.45,-211.09\"/>\n",
       "</g>\n",
       "<!-- 139743273361808 -->\n",
       "<g id=\"node10\" class=\"node\">\n",
       "<title>139743273361808</title>\n",
       "<polygon fill=\"lightgrey\" stroke=\"black\" points=\"225,-333.5 124,-333.5 124,-314.5 225,-314.5 225,-333.5\"/>\n",
       "<text text-anchor=\"middle\" x=\"174.5\" y=\"-321.5\" font-family=\"monospace\" font-size=\"10.00\">AccumulateGrad</text>\n",
       "</g>\n",
       "<!-- 139743273361808&#45;&gt;139739746131152 -->\n",
       "<g id=\"edge8\" class=\"edge\">\n",
       "<title>139743273361808&#45;&gt;139739746131152</title>\n",
       "<path fill=\"none\" stroke=\"black\" d=\"M174.5,-314.37C174.5,-305.16 174.5,-290.29 174.5,-278.27\"/>\n",
       "<polygon fill=\"black\" stroke=\"black\" points=\"178,-277.91 174.5,-267.91 171,-277.91 178,-277.91\"/>\n",
       "</g>\n",
       "<!-- 139739746165840 -->\n",
       "<g id=\"node11\" class=\"node\">\n",
       "<title>139739746165840</title>\n",
       "<polygon fill=\"lightblue\" stroke=\"black\" points=\"213,-405 136,-405 136,-375 213,-375 213,-405\"/>\n",
       "<text text-anchor=\"middle\" x=\"174.5\" y=\"-393\" font-family=\"monospace\" font-size=\"10.00\">fc1.weight</text>\n",
       "<text text-anchor=\"middle\" x=\"174.5\" y=\"-382\" font-family=\"monospace\" font-size=\"10.00\"> (32, 10)</text>\n",
       "</g>\n",
       "<!-- 139739746165840&#45;&gt;139743273361808 -->\n",
       "<g id=\"edge9\" class=\"edge\">\n",
       "<title>139739746165840&#45;&gt;139743273361808</title>\n",
       "<path fill=\"none\" stroke=\"black\" d=\"M174.5,-374.8C174.5,-365.7 174.5,-353.79 174.5,-343.9\"/>\n",
       "<polygon fill=\"black\" stroke=\"black\" points=\"178,-343.84 174.5,-333.84 171,-343.84 178,-343.84\"/>\n",
       "</g>\n",
       "<!-- 139739746131536 -->\n",
       "<g id=\"node12\" class=\"node\">\n",
       "<title>139739746131536</title>\n",
       "<polygon fill=\"lightgrey\" stroke=\"black\" points=\"313,-141 236,-141 236,-122 313,-122 313,-141\"/>\n",
       "<text text-anchor=\"middle\" x=\"274.5\" y=\"-129\" font-family=\"monospace\" font-size=\"10.00\">TBackward0</text>\n",
       "</g>\n",
       "<!-- 139739746131536&#45;&gt;139743273319440 -->\n",
       "<g id=\"edge10\" class=\"edge\">\n",
       "<title>139739746131536&#45;&gt;139743273319440</title>\n",
       "<path fill=\"none\" stroke=\"black\" d=\"M257.15,-121.98C239.93,-113.54 213.3,-100.47 193.35,-90.68\"/>\n",
       "<polygon fill=\"black\" stroke=\"black\" points=\"194.69,-87.43 184.17,-86.17 191.6,-93.72 194.69,-87.43\"/>\n",
       "</g>\n",
       "<!-- 139739746131440 -->\n",
       "<g id=\"node13\" class=\"node\">\n",
       "<title>139739746131440</title>\n",
       "<polygon fill=\"lightgrey\" stroke=\"black\" points=\"332,-201.5 231,-201.5 231,-182.5 332,-182.5 332,-201.5\"/>\n",
       "<text text-anchor=\"middle\" x=\"281.5\" y=\"-189.5\" font-family=\"monospace\" font-size=\"10.00\">AccumulateGrad</text>\n",
       "</g>\n",
       "<!-- 139739746131440&#45;&gt;139739746131536 -->\n",
       "<g id=\"edge11\" class=\"edge\">\n",
       "<title>139739746131440&#45;&gt;139739746131536</title>\n",
       "<path fill=\"none\" stroke=\"black\" d=\"M280.47,-182.37C279.5,-174.25 278.01,-161.81 276.76,-151.39\"/>\n",
       "<polygon fill=\"black\" stroke=\"black\" points=\"280.2,-150.68 275.54,-141.17 273.25,-151.51 280.2,-150.68\"/>\n",
       "</g>\n",
       "<!-- 139739746093632 -->\n",
       "<g id=\"node14\" class=\"node\">\n",
       "<title>139739746093632</title>\n",
       "<polygon fill=\"lightblue\" stroke=\"black\" points=\"320,-273 243,-273 243,-243 320,-243 320,-273\"/>\n",
       "<text text-anchor=\"middle\" x=\"281.5\" y=\"-261\" font-family=\"monospace\" font-size=\"10.00\">fc2.weight</text>\n",
       "<text text-anchor=\"middle\" x=\"281.5\" y=\"-250\" font-family=\"monospace\" font-size=\"10.00\"> (1, 32)</text>\n",
       "</g>\n",
       "<!-- 139739746093632&#45;&gt;139739746131440 -->\n",
       "<g id=\"edge12\" class=\"edge\">\n",
       "<title>139739746093632&#45;&gt;139739746131440</title>\n",
       "<path fill=\"none\" stroke=\"black\" d=\"M281.5,-242.8C281.5,-233.7 281.5,-221.79 281.5,-211.9\"/>\n",
       "<polygon fill=\"black\" stroke=\"black\" points=\"285,-211.84 281.5,-201.84 278,-211.84 285,-211.84\"/>\n",
       "</g>\n",
       "</g>\n",
       "</svg>\n"
      ],
      "text/plain": [
       "<graphviz.graphs.Digraph at 0x7f188431ea00>"
      ]
     },
     "execution_count": 3,
     "metadata": {},
     "output_type": "execute_result"
    }
   ],
   "source": [
    "from Model import QNetwork, QJoint, VJoint\n",
    "\n",
    "import torchviz\n",
    "import torch\n",
    "import torch.nn as nn\n",
    "\n",
    "from torchviz import make_dot\n",
    "\n",
    "class TinyNet(nn.Module):\n",
    "    def __init__(self):\n",
    "        super().__init__()\n",
    "        self.fc1 = nn.Linear(10, 32)\n",
    "        self.fc2 = nn.Linear(32, 1)\n",
    "\n",
    "    def forward(self, x):\n",
    "        return self.fc2(torch.relu(self.fc1(x)))\n",
    "\n",
    "net = TinyNet()\n",
    "x   = torch.randn(4, 10)\n",
    "\n",
    "y = net(x)               # forward pass\n",
    "\n",
    "make_dot(y, params=dict(net.named_parameters()))\n",
    "\n",
    "# dot = make_dot(y, params=dict(net.named_parameters()))\n",
    "# dot.render('tinynet', format='pdf')"
   ]
  },
  {
   "cell_type": "code",
   "execution_count": 4,
   "metadata": {},
   "outputs": [
    {
     "data": {
      "text/plain": [
       "0.008901250548660755"
      ]
     },
     "execution_count": 4,
     "metadata": {},
     "output_type": "execute_result"
    }
   ],
   "source": [
    "import torch\n",
    "\n",
    "torch.tensor([1.6215e-03, 7.8728e-04, 2.0838e-04, 1.6530e-03, 1.2689e-03, 1.2745e-03,\n",
    "        3.3193e-02, 7.8310e-06, 1.5021e-04, 6.5385e-04, 5.0044e-04, 7.1709e-04,\n",
    "        3.3469e-03, 4.1206e-03, 3.8412e-04, 4.5285e-04, 6.4665e-04, 4.7792e-03,\n",
    "        1.2347e-04, 7.2960e-04, 3.6799e-02, 2.3749e-03, 1.7622e-03, 3.1194e-05,\n",
    "        5.4498e-05, 2.0804e-04, 2.2076e-04, 1.2804e-04, 3.9369e-04, 5.8473e-03,\n",
    "        1.6181e-04, 9.2504e-05, 1.6354e-03, 8.2326e-04, 5.6677e-03, 1.0392e-05,\n",
    "        9.4922e-04, 1.3039e-03, 4.9219e-03, 1.3035e-03, 8.7323e-04, 7.8713e-05,\n",
    "        1.8638e-01, 1.7150e-04, 1.0938e-04, 2.3190e-05, 3.4293e-04, 9.8049e-04,\n",
    "        4.6360e-05, 5.1330e-03, 9.5188e-06, 3.3497e-04, 1.5156e-04, 6.2671e-05,\n",
    "        7.0613e-04, 6.9807e-05, 2.4396e-01, 1.8623e-04, 7.4531e-03, 1.3471e-04,\n",
    "        1.1687e-04, 1.4703e-04, 6.0240e-04, 2.9773e-04]).mean().item()"
   ]
  },
  {
   "cell_type": "code",
   "execution_count": null,
   "metadata": {},
   "outputs": [],
   "source": [
    "l = [[(0, 1), (2, 3)], [(0, 1)], [(0, 1), (0, 3)], [(0, 3), (1, 2), (2, 3)], [(0, 1), (0, 2), (0, 3), (1, 2), (1, 3), (2, 3)], [(0, 2), (2, 3)], [(0, 2)], [(0, 1), (0, 2), (1, 2)], [(0, 1), (0, 2), (0, 3), (2, 3)], [(0, 2), (0, 3), (2, 3)], [(0, 3), (2, 3)], [(0, 1), (0, 3), (1, 2), (2, 3)], [(0, 2), (1, 3), (2, 3)], [(1, 2), (1, 3), (2, 3)], [(0, 2), (0, 3), (2, 3)], [(0, 1), (0, 3), (1, 3)], [(0, 2), (0, 3), (2, 3)], [(0, 1), (0, 3), (1, 2), (1, 3), (2, 3)], [(0, 1), (0, 2)], [(0, 1), (0, 3), (1, 3)], [(0, 2)], [(0, 1), (0, 3), (1, 3)], [(0, 2)], [(0, 1), (1, 2), (1, 3)], [(0, 1), (0, 3), (1, 3)], [(0, 1), (0, 2), (1, 2)], [(0, 1), (0, 3)], [(1, 3), (2, 3)], [(0, 2)], [(0, 2), (1, 2), (1, 3)], [(0, 3)], [(0, 1), (0, 3), (1, 3)], [(0, 2), (1, 2), (2, 3)], [(0, 1), (0, 2), (0, 3), (1, 2), (1, 3), (2, 3)], [(0, 3), (1, 3), (2, 3)], [(0, 2)], [(0, 2), (2, 3)], [(0, 3), (1, 2), (1, 3), (2, 3)], [(0, 2), (1, 3)], [(0, 2)], [(0, 2), (1, 3)], [(0, 1), (2, 3)], [(0, 2)], [(1, 3)], [(0, 1), (0, 3), (1, 3)], [(2, 3)], [(0, 1), (0, 3), (1, 3)], [(0, 2), (0, 3), (1, 3)], [(0, 1), (0, 2), (0, 3), (2, 3)], [(0, 1), (0, 3), (2, 3)], [(0, 1), (1, 3)], [(0, 2), (0, 3), (2, 3)], [(0, 3)], [(0, 1), (0, 3), (1, 3)], [(0, 1)], [(0, 2), (0, 3), (1, 3)], [(0, 2)], [(0, 1), (0, 3), (1, 3)], [(0, 3)], [(0, 3), (1, 2)], [(0, 1), (0, 3), (1, 3)], [(0, 2)], [(0, 2)], [(0, 2), (1, 3)]]\n",
    "\n",
    "l = [[(1, 3)], [(0, 2), (0, 3), (1, 2), (1, 3), (2, 3)], [(0, 1), (0, 2), (1, 2)], [(0, 1), (0, 2), (0, 3), (1, 2), (1, 3)], [(0, 1), (0, 2), (1, 2)], [(1, 2), (1, 3), (2, 3)], [(0, 2), (0, 3), (2, 3)], [(0, 1), (1, 2)], [(0, 2), (0, 3), (2, 3)], [(0, 1), (0, 2), (0, 3), (2, 3)], [(0, 1), (0, 3), (1, 3)], [(0, 2)], [(0, 1), (0, 2), (1, 2)], [(0, 2), (1, 2), (1, 3), (2, 3)], [(0, 2), (1, 3), (2, 3)], [(0, 1), (1, 3)], [(0, 1), (1, 2), (2, 3)], [(1, 2), (2, 3)], [(0, 1), (0, 2), (0, 3), (2, 3)], [(0, 2), (0, 3), (2, 3)], [(0, 2), (1, 2), (1, 3)], [(0, 2), (0, 3), (2, 3)], [(0, 1), (0, 2), (0, 3), (1, 2), (1, 3), (2, 3)], [(0, 2), (1, 3)], [(1, 3)], [(0, 2)], [(0, 3)], [(0, 2), (1, 3)], [(0, 1), (0, 3)], [(0, 2), (0, 3), (1, 3)], [(0, 1), (0, 3), (1, 3)], [(0, 2), (0, 3), (2, 3)], [(0, 1), (0, 3), (1, 3)], [(0, 3), (1, 2), (1, 3), (2, 3)], [(0, 2), (1, 3), (2, 3)], [(0, 2), (1, 2)], [(0, 2), (0, 3), (2, 3)], [(1, 2)], [(1, 3)], [(0, 1), (0, 3), (1, 3)], [(0, 1)], [(0, 2), (0, 3), (2, 3)], [(0, 3), (1, 3), (2, 3)], [(0, 2), (0, 3), (1, 3)], [(1, 3)], [(0, 1), (0, 2), (1, 2)], [(0, 1), (0, 2), (0, 3), (1, 2), (1, 3), (2, 3)], [(1, 3)], [(0, 2)], [(0, 2), (1, 2), (2, 3)], [(0, 1)], [(1, 3), (2, 3)], [(0, 1), (0, 2), (0, 3), (1, 3)], [(0, 2), (1, 2)], [(1, 3)], [(1, 3)], [(0, 1), (0, 3)], [(0, 1), (0, 3), (1, 3), (2, 3)], [(0, 2)], [(1, 2), (1, 3), (2, 3)], [(0, 1), (0, 3), (1, 3)], [(0, 1), (1, 3)], [(0, 1)], [(2, 3)]]\n",
    "\n",
    "\n",
    "a = [9.1245e-01, 1.9262e-01, 4.3413e-01, 3.8246e-02, 2.1867e-03, 1.6926e-03,\n",
    "        3.6877e-01, 2.2714e-03, 7.7246e-02, 3.2194e-03, 4.2293e-03, 2.4331e-04,\n",
    "        1.3856e-03, 3.6741e-03, 3.9936e-03, 2.6778e-04, 2.2501e-03, 6.7847e-04,\n",
    "        1.7837e-03, 2.1011e-03, 4.4006e-04, 3.1042e-03, 1.3288e-03, 2.5307e-03,\n",
    "        3.4388e-04, 1.2259e-04, 9.5112e-06, 1.1028e-03, 2.6658e-03, 4.7333e-09,\n",
    "        4.4354e-03, 4.8724e-03, 2.0503e-03, 2.2462e-03, 5.8101e-03, 4.2945e-03,\n",
    "        3.0568e-03, 7.9313e-04, 1.9873e-03, 1.8343e-03, 2.1070e-03, 4.9566e-06,\n",
    "        1.9166e-03, 4.4622e-03, 2.9902e-03, 4.6010e-03, 1.5927e-04, 4.8424e-03,\n",
    "        4.3561e-03, 1.1414e-03, 1.7169e-06, 3.1846e-03, 2.1972e-03, 1.0080e-03,\n",
    "        1.8267e-03, 4.7542e-03, 1.0403e-04, 1.0705e-04, 2.5865e-03, 2.0412e-03,\n",
    "        4.1759e-04, 2.1627e-03, 4.2128e-03, 2.8076e-03, 1.3216e-03, 7.1762e-04]\n",
    "b = [9.1245e-01, 1.9262e-01, 4.3413e-01, 3.8246e-02, 2.1867e-03, 1.6926e-03,\n",
    "        3.6877e-01, 2.2714e-03, 7.7246e-02, 3.2194e-03, 4.2293e-03, 2.4331e-04,\n",
    "        1.3856e-03, 3.6741e-03, 3.9936e-03, 2.6778e-04, 2.2501e-03, 6.7847e-04,\n",
    "        1.7837e-03, 2.1011e-03, 4.4006e-04, 3.1042e-03, 1.3288e-03, 1.4373e-03,\n",
    "        1.2259e-04, 9.5112e-06, 1.1028e-03, 1.3329e-03, 4.4354e-03, 4.8724e-03,\n",
    "        2.0503e-03, 2.2462e-03, 5.8101e-03, 4.2945e-03, 3.0568e-03, 7.9313e-04,\n",
    "        1.9873e-03, 1.8343e-03, 2.1070e-03, 4.9566e-06, 1.9166e-03, 4.4622e-03,\n",
    "        2.9902e-03, 4.6010e-03, 1.5927e-04, 4.8424e-03, 4.3561e-03, 1.1414e-03,\n",
    "        1.7169e-06, 3.1846e-03, 2.1972e-03, 1.0080e-03, 1.8267e-03, 4.7542e-03,\n",
    "        1.0403e-04, 1.0705e-04, 2.5865e-03, 2.0412e-03, 4.1759e-04, 2.1627e-03,\n",
    "        4.2128e-03, 2.8076e-03, 1.3216e-03, 7.1762e-04]\n",
    "\n",
    "print(len(a), len(b))\n",
    "\n",
    "for i, j in zip (a, b):\n",
    "    if i != j:\n",
    "        print(i, j)\n"
   ]
  },
  {
   "cell_type": "code",
   "execution_count": null,
   "metadata": {},
   "outputs": [],
   "source": [
    "rewards = (\n",
    "([-0.2], [-1.2, -0.2], [-0.2], [-0.2, -0.2], [-0.2, -0.2], [-0.2], [-0.2], [-0.2], [-0.2], [-0.2, -0.2], [-0.2], [-0.2, -0.2], [-0.7], [-0.2], [-0.2], [-1.45], [-0.2], [-0.2], [-0.2], [-0.2], [-0.2], [-0.2], [-0.2], [-0.2], [-0.2], [-1.2], [-1.5333333333333332], [-0.2, -0.2], [-0.2], [-0.2], [-0.2], [-0.2], [-0.2, -0.2], [-0.8666666666666667], [-0.2], [-0.8666666666666667], [-0.8666666666666667], [-0.2], [-0.2], [-0.7], [-0.2], [-0.2], [-0.7], [-0.2], [-0.2, -0.2], [-0.2], [-0.2], [-0.2], [-0.2], [-0.2], [-0.2], [-0.2], [-1.2, -0.2], [-0.2], [-0.2], [-0.2], [-0.2], [-0.2, -0.2], [-0.7], [-0.2], [-1.2, -0.2], [-0.2], [-0.7], [-0.2])\n",
    "    )\n",
    "\n",
    "\n",
    "# qjt predicted\n",
    "qjt = [[[-0.159, -0.213, -0.189]], [[-0.743], [-0.218]], [[-0.282, -0.183]], [[-0.265], [-0.308]], [[-0.206], [-0.334]], [[-0.181, -0.331]], [[-0.319]], [[-0.227, -0.19, -0.237, -0.291]], [[-0.157, -0.189, -0.135, -0.187, -0.192]], [[-0.198], [-0.26]], [[-0.168, -0.301]], [[-0.273], [-0.356]], [[-0.516, -0.586, -0.577, -0.567]], [[-0.214, -0.272, -0.234]], [[-0.223]], [[-1.394, -1.319, -1.471, -1.293, -1.431, -1.46]], [[-0.249, -0.245, -0.208]], [[-0.181, -0.28, -0.324]], [[-0.167]], [[-0.238, -0.16]], [[-0.217, -0.225, -0.271]], [[-0.17, -0.355, -0.232, -0.259]], [[-0.27, -0.233]], [[-0.22]], [[-0.221, -0.199, -0.217, -0.203, -0.11, -0.081]], [[-0.955]], [[-1.517, -1.395, -1.48]], [[-0.27], [-0.191]], [[-0.192, -0.224, -0.196, -0.138, -0.175, -0.278]], [[-0.112, -0.199]], [[-0.246, -0.22]], [[-0.252, -0.178]], [[-0.254], [-0.265]], [[-0.946, -0.986]], [[-0.279, -0.157, -0.158]], [[-0.846, -0.658, -0.933]], [[-0.843, -0.915, -0.899]], [[-0.228, -0.289, -0.196]], [[-0.155, -0.215, -0.108]], [[-0.646, -0.848, -0.549, -0.872, -0.788]], [[-0.216, -0.172]], [[-0.163, -0.159, -0.17]], [[-0.591, -0.556, -0.588, -0.595, -0.613, -0.574]], [[-0.241, -0.16, -0.23]], [[-0.31], [-0.172]], [[-0.173, -0.185, -0.183, -0.168, -0.123, -0.201]], [[-0.2, -0.349, -0.224]], [[-0.331, -0.203]], [[-0.203, -0.323, -0.188]], [[-0.254, -0.194, -0.149]], [[-0.227, -0.232, -0.23]], [[-0.36, -0.426, -0.352]], [[-1.039], [-0.195]], [[-0.224, -0.266, -0.304]], [[-0.299, -0.29, -0.19, -0.209]], [[-0.223, -0.144]], [[-0.208, -0.2, -0.216, -0.157, -0.145, -0.242]], [[-0.353], [-0.202]], [[-0.544, -0.593, -0.663, -0.633, -0.595, -0.635]], [[-0.196, -0.23, -0.175]], [[-0.826], [-0.254]], [[-0.191, -0.155, -0.201]], [[-0.639, -0.546, -0.484, -0.579]], [[-0.205, -0.283]]]\n",
    "\n",
    "for q, r in zip(qjt, rewards):\n",
    "    print(q, \"---------------------\", r)"
   ]
  },
  {
   "cell_type": "code",
   "execution_count": null,
   "metadata": {},
   "outputs": [],
   "source": [
    "import numpy as np\n",
    "\n",
    "heuri_map = np.array(\n",
    "    [\n",
    "        [\n",
    "            [\n",
    "                [0.1, 0.2, 0.3, 0.4, 0.5],\n",
    "                [0.6, 0.7, 0.8, 0.9, 1.0],\n",
    "                [1.1, 1.2, 1.3, 1.4, 1.5],\n",
    "                [1.6, 1.7, 1.8, 1.9, 2.0],\n",
    "                [2.1, 2.2, 2.3, 2.4, 2.5]\n",
    "            ]\n",
    "            \n",
    "        ],\n",
    "        \n",
    "     ]\n",
    ")\n",
    "obs_radius = 7\n",
    "\n",
    "heuri_map = np.pad(heuri_map, ((0, 0), (0, 0), (obs_radius, obs_radius), (obs_radius, obs_radius)))\n",
    "heuri_map"
   ]
  },
  {
   "cell_type": "code",
   "execution_count": 1,
   "metadata": {},
   "outputs": [
    {
     "name": "stderr",
     "output_type": "stream",
     "text": [
      "/localhome/esa95/anaconda3/envs/torch/lib/python3.9/site-packages/scipy/__init__.py:146: UserWarning: A NumPy version >=1.16.5 and <1.23.0 is required for this version of SciPy (detected version 1.23.4\n",
      "  warnings.warn(f\"A NumPy version >={np_minversion} and <{np_maxversion}\"\n"
     ]
    },
    {
     "name": "stdout",
     "output_type": "stream",
     "text": [
      "Environment.__init__: loading heuristic map from file\n"
     ]
    }
   ],
   "source": [
    "import copy\n",
    "import time\n",
    "import yaml\n",
    "import os\n",
    "import shutil\n",
    "\n",
    "from utils import *                   # Custom utility functions and classes\n",
    "from Environment import Environment    # Environment setup class\n",
    "\n",
    "# Set global numpy seed for reproducibility\n",
    "np.random.seed(0)\n",
    "\n",
    "config_name = \"warehouse_2\"\n",
    "\n",
    "# Load configuration file\n",
    "file_path = \"config.yaml\"\n",
    "with open(file_path, \"r\") as file:\n",
    "    config_file = yaml.safe_load(file)\n",
    "\n",
    "config = config_file[config_name]\n",
    "\n",
    "# Environment Configuration\n",
    "env_config = config[\"environment\"]\n",
    "\n",
    "# Training Configuration\n",
    "train_config   = config[\"training\"]\n",
    "OVERFIT_TEST   = train_config[\"OVERFIT_TEST\"]\n",
    "BATCH_SIZE     = train_config[\"BATCH_SIZE\"]\n",
    "LAMBDA         = train_config[\"LAMBDA\"]\n",
    "LR             = float(train_config[\"LR\"])\n",
    "BUFFER_SIZE    = train_config[\"BUFFER_SIZE\"]\n",
    "TRAIN_STEPS    = float(train_config[\"TRAIN_STEPS\"])  # Convert to int for loops\n",
    "N_ACTIONS      = train_config[\"N_ACTIONS\"]\n",
    "\n",
    "# Paths Configuration\n",
    "paths_config      = config[\"paths\"]\n",
    "GRID_MAP_FILE     = paths_config[\"map_file\"]\n",
    "HEURISTIC_MAP_FILE= paths_config[\"heur_file\"]\n",
    "DIR               = config[\"root\"] + paths_config[\"results\"]\n",
    "saved_model_path  = os.path.join(DIR, 'q_net_model/')\n",
    "log_path          = os.path.join(DIR, \"log/\")\n",
    "\n",
    "# Use QTRAN alternative version flag\n",
    "is_QTRAN_alt = True\n",
    "\n",
    "# %% LOGGER & ENVIRONMENT INITIALIZATION\n",
    "logger = Logger(os.path.join(log_path, \"log.txt\"))\n",
    "\n",
    "env = Environment(env_config,\n",
    "                  logger=logger,\n",
    "                  grid_map_file=GRID_MAP_FILE,\n",
    "                  heuristic_map_file=HEURISTIC_MAP_FILE,\n",
    "                  start_loc_options=None,\n",
    "                  goal_loc_options=None)"
   ]
  },
  {
   "cell_type": "code",
   "execution_count": 13,
   "metadata": {},
   "outputs": [
    {
     "name": "stdout",
     "output_type": "stream",
     "text": [
      "size_x, size_y 46 33\n"
     ]
    }
   ],
   "source": [
    "def get_close_pairs(num_agents, starts, heuristic_map, window_size):\n",
    "    close_pairs = []\n",
    "    for agent in range(num_agents):\n",
    "        for neighbor in _get_neighboring_agents(agent, starts, heuristic_map, window_size, num_agents=num_agents):\n",
    "            if neighbor > agent:\n",
    "                close_pairs.append((agent, neighbor))\n",
    "    return close_pairs\n",
    "\n",
    "def _get_neighboring_agents(agent, starts, heuristic_map, window_size, num_agents):\n",
    "    neighbors = []\n",
    "    for a in range(num_agents):\n",
    "        if a == agent:\n",
    "            continue\n",
    "        x, y = starts[a]\n",
    "        i, j = starts[agent]\n",
    "        if heuristic_map[(x, y)][i, j] <= window_size*2:\n",
    "            neighbors.append(a)\n",
    "    return neighbors\n",
    "\n",
    "def _get_DHC_heur_to_goal(goal, grid_map, heuristic_map):\n",
    "    heur = np.zeros((4, *grid_map.shape))\n",
    "    heur_map = heuristic_map[goal]\n",
    "    for y in range(grid_map.shape[0]):\n",
    "        for x in range(grid_map.shape[1]):\n",
    "            if grid_map[y, x] == 0:\n",
    "                # up\n",
    "                if y > 0 and heur_map[y-1, x] < heur_map[y, x]:\n",
    "                    assert heur_map[y-1, x] == heur_map[y, x]-1\n",
    "                    heur[0, y, x] = 1\n",
    "                # down\n",
    "                if y < grid_map.shape[0]-1 and heur_map[y+1, x] < heur_map[y, x]:\n",
    "                    assert heur_map[y+1, x] == heur_map[y, x]-1\n",
    "                    heur[1, y, x] = 1\n",
    "                # left\n",
    "                if x > 0 and heur_map[y, x-1] < heur_map[y, x]:\n",
    "                    assert heur_map[y, x-1] == heur_map[y, x]-1\n",
    "                    heur[2, y, x] = 1\n",
    "                # right\n",
    "                if x < grid_map.shape[0]-1 and heur_map[y, x+1] < heur_map[y, x]:\n",
    "                    assert heur_map[y, x+1] == heur_map[y, x]-1\n",
    "                    heur[3, y, x] = 1\n",
    "    return heur\n",
    "\n",
    "def _get_DHC_heur(num_agents, goals, grid_map, heuristic_map):\n",
    "    # DHC HEURISTIC MAP\n",
    "    DHC_heur = []\n",
    "    for agent in range(num_agents):\n",
    "        # number of goals, 4 directions, map size\n",
    "        heur = np.zeros((len(goals[agent]), 4, *grid_map.shape))\n",
    "        for i, goal in enumerate(goals[agent]):\n",
    "            heur[i] = _get_DHC_heur_to_goal(goal, grid_map, heuristic_map)\n",
    "        DHC_heur.append(heur)\n",
    "    return DHC_heur\n",
    "\n",
    "def _get_fov(grid_map, x, y, fov):\n",
    "    max_val = np.max(grid_map)\n",
    "    padded_grid = np.pad(grid_map, pad_width=fov//2, mode='constant', constant_values=0)\n",
    "    return padded_grid[x:x+fov, y:y+fov]\n",
    "\n",
    "def predict(starts, goals, window_size):\n",
    "    num_agents = len(starts)\n",
    "\n",
    "    grid_map = np.load('kiva.npy')\n",
    "    heuristic_map = np.load('kiva_heur.npy', allow_pickle=True).item()\n",
    "\n",
    "    size_x = grid_map.shape[1] - 2\n",
    "    size_y = grid_map.shape[0] - 2\n",
    "\n",
    "    print(\"size_x, size_y\", size_x, size_y)\n",
    "\n",
    "    row, col = grid_map.shape\n",
    "    row = row - 2\n",
    "    col = col - 2\n",
    "\n",
    "    # revert from idx to coord\n",
    "    # starts = [(start//col + 1, start%col + 1) for start in starts]\n",
    "    # goals = [[(g[0]//col + 1, g[0]%col + 1) for g in goal] for goal in goals]\n",
    "\n",
    "    # get close pairs\n",
    "    close_pairs = get_close_pairs(num_agents, starts, heuristic_map, window_size)\n",
    "\n",
    "    # get obs\n",
    "    layers = 8\n",
    "    fov = window_size * 2 + 1\n",
    "    obs = np.zeros((num_agents, layers, fov, fov), dtype=np.float32)\n",
    "    DHC_heur = _get_DHC_heur(num_agents, goals, grid_map, heuristic_map)\n",
    "\n",
    "    for agent, (agent_pos, goal) in enumerate(zip(starts, goals)):\n",
    "        x, y = agent_pos\n",
    "        # 1. SURROUNDING OBSTACLES\n",
    "        obs[agent, 0] = _get_fov(grid_map, x, y, fov)\n",
    "        # 2. SURROUNDING AGENTS\n",
    "        agent_map = np.zeros((grid_map.shape))\n",
    "        arr = np.array(starts)\n",
    "        agent_map[arr[:,0], arr[:,1]] = 1\n",
    "        obs[agent, 1] = _get_fov(agent_map, x, y, fov)\n",
    "        # 2. HEURISTIC TO GOAL\n",
    "        # heur = _get_fov(heuristic_map[goal[0]], x, y, fov)\n",
    "        padded_grid = np.pad(heuristic_map[goal[0]], pad_width=fov//2, mode='constant', constant_values=np.inf)\n",
    "        heur = padded_grid[x:x+fov, y:y+fov]\n",
    "        \n",
    "        # normalize the heuristic map\n",
    "        max_val = np.max(heur[heur < np.inf])\n",
    "        obs[agent, 2] = heur / max_val\n",
    "\n",
    "        # 3. DHC HEURISTIC LAYER\n",
    "        obs[agent, 3] = _get_fov(DHC_heur[agent][0][0], x, y, fov)\n",
    "        obs[agent, 4] = _get_fov(DHC_heur[agent][0][1], x, y, fov)\n",
    "        obs[agent, 5] = _get_fov(DHC_heur[agent][0][2], x, y, fov)\n",
    "        obs[agent, 6] = _get_fov(DHC_heur[agent][0][3], x, y, fov)\n",
    "\n",
    "        normalized_coord = np.zeros((fov, fov))\n",
    "        normalized_coord[0, 0] = y / size_x\n",
    "        normalized_coord[0, 1] = x / size_y\n",
    "        obs[agent, 7] = normalized_coord\n",
    "\n",
    "    obs_fovs = torch.tensor(obs)\n",
    "    obs_fovs = torch.where(torch.isinf(obs_fovs), torch.tensor(1), obs_fovs)\n",
    "\n",
    "    return obs_fovs\n",
    "\n",
    "\n",
    "starts, goals = env.starts, env.goals\n",
    "window_size = 5\n",
    "\n",
    "module_obs = predict(starts, goals, window_size)"
   ]
  },
  {
   "cell_type": "code",
   "execution_count": 12,
   "metadata": {},
   "outputs": [
    {
     "data": {
      "text/plain": [
       "(46, 33)"
      ]
     },
     "execution_count": 12,
     "metadata": {},
     "output_type": "execute_result"
    }
   ],
   "source": [
    "env.size_x, env.size_y"
   ]
  },
  {
   "cell_type": "code",
   "execution_count": 3,
   "metadata": {},
   "outputs": [
    {
     "data": {
      "text/plain": [
       "torch.Size([4, 8, 11, 11])"
      ]
     },
     "execution_count": 3,
     "metadata": {},
     "output_type": "execute_result"
    }
   ],
   "source": [
    "module_obs.shape"
   ]
  },
  {
   "cell_type": "code",
   "execution_count": 4,
   "metadata": {},
   "outputs": [
    {
     "data": {
      "text/plain": [
       "<matplotlib.image.AxesImage at 0x7ff37065b910>"
      ]
     },
     "execution_count": 4,
     "metadata": {},
     "output_type": "execute_result"
    },
    {
     "data": {
      "image/png": "[encoded data removed]",
      "text/plain": [
       "<Figure size 640x480 with 1 Axes>"
      ]
     },
     "metadata": {},
     "output_type": "display_data"
    }
   ],
   "source": [
    "plt.imshow(module_obs[0][0], cmap='gray_r')"
   ]
  },
  {
   "cell_type": "code",
   "execution_count": 14,
   "metadata": {},
   "outputs": [],
   "source": [
    "obs = env.get_obs()"
   ]
  },
  {
   "cell_type": "code",
   "execution_count": 6,
   "metadata": {},
   "outputs": [
    {
     "data": {
      "text/plain": [
       "<matplotlib.image.AxesImage at 0x7ff370564130>"
      ]
     },
     "execution_count": 6,
     "metadata": {},
     "output_type": "execute_result"
    },
    {
     "data": {
      "image/png": "[encoded data removed]",
      "text/plain": [
       "<Figure size 640x480 with 1 Axes>"
      ]
     },
     "metadata": {},
     "output_type": "display_data"
    }
   ],
   "source": [
    "plt.imshow(obs[0][0], cmap='gray_r')"
   ]
  },
  {
   "cell_type": "code",
   "execution_count": 15,
   "metadata": {},
   "outputs": [
    {
     "data": {
      "text/plain": [
       "(tensor([0.7391, 0.1212]), tensor([0.7391, 0.1212]))"
      ]
     },
     "execution_count": 15,
     "metadata": {},
     "output_type": "execute_result"
    }
   ],
   "source": [
    "module_obs[0, 7, 0, 0:2], obs[0, 7, 0, 0:2]"
   ]
  },
  {
   "cell_type": "code",
   "execution_count": 16,
   "metadata": {},
   "outputs": [
    {
     "name": "stdout",
     "output_type": "stream",
     "text": [
      "tensor([], size=(0, 4), dtype=torch.int64)\n"
     ]
    }
   ],
   "source": [
    "# Boolean mask of mismatches\n",
    "mismatch_mask = module_obs != obs\n",
    "\n",
    "# Get indices where values differ\n",
    "mismatch_indices = torch.nonzero(mismatch_mask, as_tuple=False)\n",
    "\n",
    "print(mismatch_indices)"
   ]
  },
  {
   "cell_type": "code",
   "execution_count": 17,
   "metadata": {},
   "outputs": [
    {
     "name": "stdout",
     "output_type": "stream",
     "text": [
      "Mismatched values:\n"
     ]
    }
   ],
   "source": [
    "# Print the mismatched values\n",
    "print(\"Mismatched values:\")\n",
    "for index in mismatch_indices:\n",
    "    print(f\"Index: {index}, Module Obs: {module_obs[index[0], index[1], index[2], index[3]]}, Env Obs: {obs[index[0], index[1], index[2], index[3]]}\")"
   ]
  },
  {
   "cell_type": "code",
   "execution_count": 10,
   "metadata": {},
   "outputs": [],
   "source": [
    "starts, goals = env.starts, env.goals\n",
    "\n",
    "for agent, (agent_pos, goal) in enumerate(zip(starts, goals)):\n",
    "    x, y = agent_pos\n",
    "    heur = env._get_fov(env.heuristic_map[goal[0]], x, y, env.fov)\n",
    "\n",
    "    # normalize the heuristic map\n",
    "    max_val = np.max(heur[heur < np.inf])\n",
    "    heur = heur / max_val\n",
    "    heur = torch.tensor(heur)\n",
    "    heur = torch.where(torch.isinf(heur), torch.tensor(1), heur)\n",
    "    break\n",
    "\n",
    "plt.imshow(heur, cmap=\"gray_r\")\n",
    "print(heur)"
   ]
  },
  {
   "cell_type": "code",
   "execution_count": null,
   "metadata": {},
   "outputs": [],
   "source": [
    "import matplotlib.pyplot as plt\n",
    "import torch\n",
    "\n",
    "starts, goals = env.starts, env.goals\n",
    "\n",
    "for agent, (agent_pos, goal) in enumerate(zip(starts, goals)):\n",
    "    x, y = agent_pos\n",
    "    heur = env._get_fov(env.heuristic_map[goal[0]], x, y, env.fov)\n",
    "    padded_grid = np.pad(env.heuristic_map[goal[0]], pad_width=env.fov//2, mode='constant', constant_values=np.inf)\n",
    "    heur = padded_grid[x:x+env.fov, y:y+env.fov]\n",
    "    # normalize the heuristic map\n",
    "    max_val = np.max(heur[heur < np.inf])\n",
    "    heur = heur / max_val\n",
    "    heur = torch.tensor(heur)\n",
    "    heur = torch.where(torch.isinf(heur), torch.tensor(1), heur)\n",
    "\n",
    "    break\n",
    "\n",
    "plt.imshow(heur, cmap=\"gray_r\")\n",
    "print(heur)\n",
    "\n",
    "# obs = env.get_obs()\n",
    "\n",
    "# for i in range(len(obs[0])):\n",
    "    # print(obs[0][i])\n",
    "\n",
    "# plt.imshow(obs[1][2], cmap=\"gray_r\")\n",
    "# print(obs[1][2])\n",
    "\n",
    "# env.get_obs().shape"
   ]
  },
  {
   "cell_type": "code",
   "execution_count": 6,
   "metadata": {},
   "outputs": [
    {
     "data": {
      "image/png": "[encoded data removed]",
      "text/plain": [
       "<Figure size 640x480 with 1 Axes>"
      ]
     },
     "metadata": {},
     "output_type": "display_data"
    }
   ],
   "source": [
    "env.show_current_state()"
   ]
  },
  {
   "cell_type": "code",
   "execution_count": 31,
   "metadata": {},
   "outputs": [
    {
     "name": "stdout",
     "output_type": "stream",
     "text": [
      "deque([8, 11, 2, 3, 6, 9, 7, 0, 5, 10, 4])\n"
     ]
    },
    {
     "data": {
      "text/plain": [
       "[8, 11, 2, 3, 6, 9, 7, 0, 5, 10, 4, 1]"
      ]
     },
     "execution_count": 31,
     "metadata": {},
     "output_type": "execute_result"
    }
   ],
   "source": [
    "from collections import defaultdict, deque\n",
    "import random\n",
    "\n",
    "def topological_sort_pbs(graph):\n",
    "    \"\"\"Topological sort on a directed graph.\"\"\"\n",
    "    in_degree = {node: 0 for node in graph}\n",
    "    # randomize the order of nodes to ensure a unique topological sort\n",
    "    random_order = list(graph.keys())\n",
    "    random.shuffle(random_order)\n",
    "\n",
    "    for node in graph:\n",
    "        for neighbor in graph[node]:\n",
    "            in_degree[neighbor] += 1\n",
    "\n",
    "    zero_in_degree = deque([node for node in random_order if in_degree[node] == 0])\n",
    "    print(zero_in_degree)\n",
    "    sorted_order = []\n",
    "\n",
    "    while zero_in_degree:\n",
    "        current = zero_in_degree.popleft()\n",
    "        sorted_order.append(current)\n",
    "        for neighbor in graph[current]:\n",
    "            in_degree[neighbor] -= 1\n",
    "            if in_degree[neighbor] == 0:\n",
    "                zero_in_degree.append(neighbor)\n",
    "\n",
    "    if len(sorted_order) == len(graph):\n",
    "        return sorted_order\n",
    "    else:\n",
    "        raise ValueError(\"Graph has a cycle and cannot be topologically sorted.\")\n",
    "\n",
    "# Define the priority order for the agents\n",
    "priority_order = [\n",
    "    (0, 1)\n",
    "]\n",
    "\n",
    "graph = defaultdict(list)\n",
    "for agent in range(12):\n",
    "    graph[agent] = []\n",
    "for a, b in priority_order:\n",
    "    graph[a].append(b)\n",
    "\n",
    "priorities = topological_sort_pbs(graph)\n",
    "priorities"
   ]
  },
  {
   "cell_type": "code",
   "execution_count": null,
   "metadata": {},
   "outputs": [],
   "source": [
    "import torch\n",
    "import torch.nn as nn\n",
    "import torch.nn.functional as F\n",
    "import matplotlib.pyplot as plt\n",
    "\n",
    "# Example Q values and rewards\n",
    "# Replace with your actual `selected_Q` and `batch_local_rewards`\n",
    "selected_Q = torch.randn(64, 1) * 5  # fake predictions\n",
    "batch_local_rewards = torch.randn(64) * 5  # fake targets\n",
    "targets = batch_local_rewards.unsqueeze(1)\n",
    "\n",
    "# Try different delta values\n",
    "deltas = [0.5, 1.0, 2.0, 5.0]\n",
    "losses = {}\n",
    "\n",
    "for delta in deltas:\n",
    "    loss = F.huber_loss(selected_Q, targets, delta=delta, reduction='none')\n",
    "    losses[delta] = loss.detach().cpu().numpy().flatten()\n",
    "\n",
    "    # huber_loss = nn.SmoothL1Loss(beta=delta, reduction='none')\n",
    "    # losses[delta] = huber_loss(selected_Q, targets).detach().cpu().numpy().flatten()\n",
    "\n",
    "\n",
    "# Plot the Huber loss for each delta\n",
    "plt.figure(figsize=(8, 5))\n",
    "for delta in deltas:\n",
    "    plt.plot(losses[delta], label=f'delta = {delta}')\n",
    "plt.xlabel('Sample index')\n",
    "plt.ylabel('Huber Loss')\n",
    "plt.title('Huber Loss per Sample for Different Delta Values')\n",
    "plt.legend()\n",
    "plt.grid(True)\n",
    "plt.tight_layout()\n",
    "plt.show()\n"
   ]
  },
  {
   "cell_type": "code",
   "execution_count": 69,
   "metadata": {},
   "outputs": [
    {
     "data": {
      "text/plain": [
       "<matplotlib.legend.Legend at 0x7f3fc1728940>"
      ]
     },
     "execution_count": 69,
     "metadata": {},
     "output_type": "execute_result"
    },
    {
     "data": {
      "image/png": "[encoded data removed]",
      "text/plain": [
       "<Figure size 640x480 with 1 Axes>"
      ]
     },
     "metadata": {},
     "output_type": "display_data"
    }
   ],
   "source": [
    "import torch\n",
    "import torch.nn as nn\n",
    "\n",
    "import matplotlib.pyplot as plt\n",
    "import numpy as np\n",
    "\n",
    "x_list = list(np.arange(0, 20, 0.1))\n",
    "\n",
    "x = torch.tensor(x_list, dtype=torch.float32)\n",
    "y = torch.tensor([0]*len(x_list), dtype=torch.float32)\n",
    "\n",
    "smoothL1 = nn.SmoothL1Loss(beta=5, reduction='none')\n",
    "loss_smoothL1 = smoothL1(x, y)\n",
    "\n",
    "loss_huber = F.huber_loss(x, y, delta=5, reduction='none')\n",
    "loss_mse = F.mse_loss(x, y, reduction='none')\n",
    "\n",
    "plt.plot(x_list, loss_huber.detach().numpy(), label='huber')\n",
    "plt.plot(x_list, loss_mse.detach().numpy(), label='mse')\n",
    "plt.plot(x_list, loss_smoothL1.detach().numpy(), label='smoothL1')\n",
    "plt.legend()"
   ]
  },
  {
   "cell_type": "code",
   "execution_count": 9,
   "metadata": {},
   "outputs": [
    {
     "data": {
      "text/plain": [
       "[55, 1]"
      ]
     },
     "execution_count": 9,
     "metadata": {},
     "output_type": "execute_result"
    }
   ],
   "source": [
    "delays = [0, 3, 0, 0, 2, 0, 0, 0, 0, 0, 0, 0, 0, 0, 0, 0, 3, 0, 0, 0, 0, 0, 0, 0, 0, 5, 4, 0, 0, 0, 0, 0, 0, 0, 2, 0, 0, 0, 0, 0, 0, 0, 0, 0, 2, 0, 0, 0, 0, 1, 1, 2, 2, 0, 0, 0, 0, 0, 1, 5, 0, 0, 1, 0, 0, 0, 0, 0, 0, 0, 0, 1, 3, 2, 0, 0, 3, 0, 0, 0, 1, 0, 0, 0, 0, 0, 0, 3, 1, 0, 0, 0, 3, 0, 0, 0, 2, 0, 2, 0, 0, 1]\n",
    "\n",
    "groups = [[0, 1, 2, 3, 4, 5, 6, 7, 8, 9, 10, 11, 12, 13, 14, 15, 16, 17, 18, 19, 20, 21, 22, 23, 24, 25, 26, 27, 28, 29, 30, 31, 32, 33, 34, 35, 36, 37, 38, 39, 40, 41, 42, 44, 45, 46, 47, 48, 49, 50, 51, 52, 53, 54, 55, 56, 57, 58, 59, 60, 61, 62, 63, 64, 65, 66, 67, 68, 69, 70, 71, 72, 73, 74, 75, 76, 77, 78, 79, 80, 81, 82, 83, 84, 85, 86, 87, 88, 89, 90, 91, 92, 93, 94, 95, 96, 97, 98, 99, 100], [43, 101]]\n",
    "\n",
    "local_rewards = []\n",
    "\n",
    "# Calculate average local rewards for each group\n",
    "for group in groups:\n",
    "    local_rewards.append(0)\n",
    "    for agent in group:\n",
    "        local_rewards[-1] += delays[agent]\n",
    "    # local_rewards[-1] /= len(group)\n",
    "\n",
    "local_rewards"
   ]
  },
  {
   "cell_type": "code",
   "execution_count": 8,
   "metadata": {},
   "outputs": [
    {
     "name": "stdout",
     "output_type": "stream",
     "text": [
      "edge: (2, 0)\n",
      "edge: (0, 1)\n",
      "edge: (1, 2)\n",
      "flip\n"
     ]
    }
   ],
   "source": [
    "class SafeGraph:\n",
    "    def __init__(self, n):\n",
    "        self.n = n\n",
    "        self.adj = {i: set() for i in range(n)}\n",
    "        self.reach = {i: set() for i in range(n)}  # transitive closure approximation\n",
    "\n",
    "    def add_edge(self, u, v):\n",
    "        if u in self.reach[v]:  # would create a cycle\n",
    "            return False\n",
    "\n",
    "        # Add edge safely\n",
    "        self.adj[u].add(v)\n",
    "\n",
    "        # Update reachable sets\n",
    "        # Everyone who can reach u now can also reach v and v's reachable\n",
    "        for x in range(self.n):\n",
    "            if u in self.reach[x]:\n",
    "                self.reach[x].update(self.reach[v])\n",
    "                self.reach[x].add(v)\n",
    "        self.reach[u].update(self.reach[v])\n",
    "        self.reach[u].add(v)\n",
    "        return True\n",
    "\n",
    "\n",
    "pair_qval = {\n",
    "    (2, 0): 0.7,\n",
    "    (0, 1): 0.6,\n",
    "    (1, 2): 0.5,\n",
    "}\n",
    "\n",
    "graph = SafeGraph(3)\n",
    "\n",
    "pairs_action = {}\n",
    "\n",
    "for (u, v), q in sorted(pair_qval.items(), key=lambda x: -abs(x[1])):\n",
    "    print(f\"edge: {u, v}\")\n",
    "    if graph.add_edge(u, v):\n",
    "        pairs_action[(min(u,v), max(u,v))] = 0 if u < v else 1\n",
    "    elif graph.add_edge(v, u):\n",
    "        print(\"flip\")\n",
    "        pairs_action[(min(u,v), max(u,v))] = 1 if u < v else 0"
   ]
  },
  {
   "cell_type": "code",
   "execution_count": 9,
   "metadata": {},
   "outputs": [
    {
     "data": {
      "text/plain": [
       "{(0, 2): 1, (0, 1): 0, (1, 2): 1}"
      ]
     },
     "execution_count": 9,
     "metadata": {},
     "output_type": "execute_result"
    }
   ],
   "source": [
    "pairs_action"
   ]
  },
  {
   "cell_type": "code",
   "execution_count": 19,
   "metadata": {},
   "outputs": [
    {
     "data": {
      "text/plain": [
       "0.9858905983972717"
      ]
     },
     "execution_count": 19,
     "metadata": {},
     "output_type": "execute_result"
    }
   ],
   "source": [
    "import random\n",
    "\n",
    "random.random()"
   ]
  },
  {
   "cell_type": "code",
   "execution_count": 1,
   "metadata": {},
   "outputs": [
    {
     "data": {
      "text/plain": [
       "[<matplotlib.lines.Line2D at 0x7faaff7e2130>]"
      ]
     },
     "execution_count": 1,
     "metadata": {},
     "output_type": "execute_result"
    },
    {
     "data": {
      "image/png": "[encoded data removed]",
      "text/plain": [
       "<Figure size 640x480 with 1 Axes>"
      ]
     },
     "metadata": {},
     "output_type": "display_data"
    }
   ],
   "source": [
    "epsilon_start = 1.0\n",
    "decay_rate = 1e-3\n",
    "\n",
    "ep = []\n",
    "\n",
    "for t in range(20000):\n",
    "    epsilon = epsilon_start / (1 + decay_rate * t)\n",
    "    ep.append(epsilon)\n",
    "\n",
    "import matplotlib.pyplot as plt\n",
    "plt.plot(ep)"
   ]
  },
  {
   "cell_type": "code",
   "execution_count": 40,
   "metadata": {},
   "outputs": [
    {
     "name": "stdout",
     "output_type": "stream",
     "text": [
      "torch.Size([32, 25, 2, 7, 7]) torch.Size([32, 25, 2])\n"
     ]
    },
    {
     "data": {
      "text/plain": [
       "torch.Size([800, 2])"
      ]
     },
     "execution_count": 40,
     "metadata": {},
     "output_type": "execute_result"
    }
   ],
   "source": [
    "print(batch_obs[:, :, :-1].shape, torch.tensor([tuple(zip(obs[:, -1, 0, 0], obs[:, -1, 0, 1])) for obs in batch_obs]).shape)\n",
    "\n",
    "batch_coordinates = torch.tensor([tuple(zip(obs[:, -1, 0, 0], obs[:, -1, 0, 1])) for obs in batch_obs])\n",
    "tmp = []\n",
    "for coords in batch_coordinates:\n",
    "    for coord in coords:\n",
    "        tmp.append(coord)\n",
    "batch_coordinates = torch.stack(tmp)\n",
    "batch_coordinates.shape"
   ]
  },
  {
   "cell_type": "code",
   "execution_count": null,
   "metadata": {},
   "outputs": [],
   "source": [
    "import numpy as np\n",
    "import torch\n",
    "\n",
    "# b, n, c, h, w\n",
    "# coords in channel 2\n",
    "batch_obs = np.zeros((32, 25, 3, 7, 7))\n",
    "batch_obs[0, 0, 2, 0, 0] = 1\n",
    "batch_obs[0, 0, 2, 0, 1] = 2\n",
    "batch_obs = torch.tensor(batch_obs)\n",
    "\n",
    "coordinates = [tuple(zip(obs[:, -1, 0, 0], obs[:, -1, 0, 1])) for obs in batch_obs]\n",
    "len(coordinates[0]), coordinates[0]"
   ]
  },
  {
   "cell_type": "code",
   "execution_count": null,
   "metadata": {},
   "outputs": [],
   "source": [
    "goals = [[(343, 0)], [(530, 0)], [(910, 0)], [(356, 0)], [(354, 0)], [(1276, 0)], [(346, 0)], [(66, 0)], [(62, 0)], [(974, 0)], [(423, 0)], [(1348, 0)], [(167, 0)], [(1177, 0)], [(998, 0)], [(530, 0)], [(237, 0)], [(243, 0)], [(169, 0)], [(1174, 0)], [(801, 0)], [(61, 0)], [(1002, 0)], [(1350, 0)], [(607, 0)], [(1271, 0)], [(975, 0)], [(527, 0)], [(980, 0)], [(1276, 0)], [(1004, 0)], [(894, 0)], [(342, 0)], [(72, 0)], [(820, 0)], [(266, 0)], [(1355, 0)], [(1174, 0)], [(1434, 0)], [(1365, 0)], [(246, 0)], [(332, 0)], [(812, 0)], [(360, 0)], [(1080, 0)], [(1440, 0)], [(521, 0)], [(1264, 0)], [(1254, 0)], [(697, 0)], [(538, 0)], [(530, 0)], [(330, 0)], [(75, 0)], [(357, 0)], [(884, 0)], [(975, 0)], [(903, 0)], [(1358, 0)], [(54, 0)]]\n",
    "\n",
    "col = 46\n",
    "[[(g[0]//col + 1, g[0]%col + 1) for g in goal] for goal in goals]"
   ]
  },
  {
   "cell_type": "code",
   "execution_count": 10,
   "metadata": {},
   "outputs": [
    {
     "data": {
      "text/plain": [
       "'maps/kiva'"
      ]
     },
     "execution_count": 10,
     "metadata": {},
     "output_type": "execute_result"
    }
   ],
   "source": [
    "row, col = [int(i) for i in \"33,46\".strip().split(',')]\n",
    "row, col\n",
    "\n",
    "\"maps/kiva.map\".split('.')[0]"
   ]
  },
  {
   "cell_type": "code",
   "execution_count": 1,
   "metadata": {},
   "outputs": [],
   "source": [
    "import torch\n",
    "from Model import QNetwork\n",
    "\n",
    "# Load your trained model\n",
    "model = QNetwork()  # Replace with your actual model class\n",
    "model.load_state_dict(torch.load('./results/warehouse/q_net_model/q_net_1420000.pth'))\n",
    "# model.eval()\n",
    "\n",
    "# Convert to TorchScript\n",
    "scripted_model = torch.jit.script(model)\n",
    "\n",
    "# Save the TorchScript model\n",
    "scripted_model.save(\"model.pt\")"
   ]
  },
  {
   "cell_type": "code",
   "execution_count": 1,
   "metadata": {},
   "outputs": [
    {
     "name": "stdout",
     "output_type": "stream",
     "text": [
      "[2, 3]\n"
     ]
    }
   ],
   "source": [
    "x = [1,2,3]\n",
    "x.pop(0)\n",
    "print(x)"
   ]
  },
  {
   "cell_type": "code",
   "execution_count": 7,
   "metadata": {},
   "outputs": [
    {
     "ename": "RuntimeError",
     "evalue": "stack expects each tensor to be equal size, but got [1] at entry 0 and [] at entry 1",
     "output_type": "error",
     "traceback": [
      "\u001b[0;31m---------------------------------------------------------------------------\u001b[0m",
      "\u001b[0;31mRuntimeError\u001b[0m                              Traceback (most recent call last)",
      "Cell \u001b[0;32mIn [7], line 7\u001b[0m\n\u001b[1;32m      3\u001b[0m x \u001b[38;5;241m=\u001b[39m torch\u001b[38;5;241m.\u001b[39mtensor([\u001b[38;5;241m1\u001b[39m])\n\u001b[1;32m      5\u001b[0m y \u001b[38;5;241m=\u001b[39m torch\u001b[38;5;241m.\u001b[39mtensor(\u001b[38;5;241m2\u001b[39m)\n\u001b[0;32m----> 7\u001b[0m stacked \u001b[38;5;241m=\u001b[39m \u001b[43mtorch\u001b[49m\u001b[38;5;241;43m.\u001b[39;49m\u001b[43mstack\u001b[49m\u001b[43m(\u001b[49m\u001b[43m[\u001b[49m\u001b[43mx\u001b[49m\u001b[43m,\u001b[49m\u001b[43m \u001b[49m\u001b[43my\u001b[49m\u001b[43m]\u001b[49m\u001b[43m)\u001b[49m\n",
      "\u001b[0;31mRuntimeError\u001b[0m: stack expects each tensor to be equal size, but got [1] at entry 0 and [] at entry 1"
     ]
    }
   ],
   "source": [
    "import torch\n",
    "\n",
    "x = torch.tensor([1])\n",
    "\n",
    "y = torch.tensor(2)\n",
    "\n",
    "stacked = torch.stack([x, y])"
   ]
  },
  {
   "cell_type": "code",
   "execution_count": null,
   "metadata": {},
   "outputs": [
    {
     "data": {
      "text/plain": [
       "(0, 1)"
      ]
     },
     "execution_count": 29,
     "metadata": {},
     "output_type": "execute_result"
    }
   ],
   "source": [
    "x = [1,2,3,4,5,6]\n",
    "\n",
    "int(x.index(1) > x.index(2)), int(x.index(2) > x.index(1))"
   ]
  },
  {
   "cell_type": "markdown",
   "metadata": {},
   "source": [
    "# reward function"
   ]
  },
  {
   "cell_type": "code",
   "execution_count": 18,
   "metadata": {},
   "outputs": [
    {
     "data": {
      "text/plain": [
       "[<matplotlib.lines.Line2D at 0x7f89984d4f10>]"
      ]
     },
     "execution_count": 18,
     "metadata": {},
     "output_type": "execute_result"
    },
    {
     "data": {
      "image/png": "[encoded data removed]",
      "text/plain": [
       "<Figure size 640x480 with 1 Axes>"
      ]
     },
     "metadata": {},
     "output_type": "display_data"
    }
   ],
   "source": [
    "import numpy as np\n",
    "import matplotlib.pyplot as plt\n",
    "\n",
    "\n",
    "rew = range(40)\n",
    "a = 1.1\n",
    "\n",
    "# plot a^r\n",
    "plt.plot([(a ** -r)*10 for r in rew])"
   ]
  },
  {
   "cell_type": "code",
   "execution_count": 17,
   "metadata": {},
   "outputs": [
    {
     "data": {
      "text/plain": [
       "[<matplotlib.lines.Line2D at 0x7f89985110d0>]"
      ]
     },
     "execution_count": 17,
     "metadata": {},
     "output_type": "execute_result"
    },
    {
     "data": {
      "image/png": "[encoded data removed]",
      "text/plain": [
       "<Figure size 640x480 with 1 Axes>"
      ]
     },
     "metadata": {},
     "output_type": "display_data"
    }
   ],
   "source": [
    "plt.plot([10 / (r + 1) for r in rew])"
   ]
  },
  {
   "cell_type": "code",
   "execution_count": 21,
   "metadata": {},
   "outputs": [],
   "source": [
    "iterations = range(1000)\n",
    "losses = [50 / (1 + 0.1*i) for i in iterations]  # example decreasing losses\n",
    "\n",
    "plt.figure(figsize=(8, 5))\n",
    "plt.plot(iterations, losses, label='Loss')\n",
    "plt.yscale('log')\n",
    "plt.xlabel('Iteration')\n",
    "plt.ylabel('Loss (log scale)')\n",
    "plt.title('Training Loss Over Iterations')\n",
    "plt.legend()\n",
    "plt.show()"
   ]
  },
  {
   "cell_type": "markdown",
   "metadata": {},
   "source": [
    "# saving files if dir does not exist yet"
   ]
  },
  {
   "cell_type": "code",
   "execution_count": 2,
   "metadata": {},
   "outputs": [],
   "source": [
    "import numpy as np\n",
    "import os\n",
    "\n",
    "x = np.array([1, 2, 3, 4, 5])\n",
    "\n",
    "# check if directory exists\n",
    "if not os.path.exists('test/test1'):\n",
    "    os.makedirs('test/test1')\n",
    "\n",
    "if not os.path.exists('test/test1/x.npy'):\n",
    "    np.save('test/test1/x.npy', x)"
   ]
  },
  {
   "cell_type": "markdown",
   "metadata": {},
   "source": [
    "# Generate Warehouse map"
   ]
  },
  {
   "cell_type": "code",
   "execution_count": 1,
   "metadata": {},
   "outputs": [],
   "source": [
    "import numpy as np\n",
    "\n",
    "import matplotlib.pyplot as plt\n",
    "from matplotlib.colors import ListedColormap\n",
    "\n",
    "# Define the colormap\n",
    "cmap = ListedColormap([\"white\", \"black\", \"yellow\", \"red\"])"
   ]
  },
  {
   "cell_type": "code",
   "execution_count": 129,
   "metadata": {},
   "outputs": [],
   "source": [
    "def generate_warehouse(rows, cols, num_agents, num_goals, seed=None):\n",
    "    np.random.seed(seed)\n",
    "\n",
    "    people = np.array(\n",
    "        [[2,2,0,2,2],\n",
    "        [2,2,0,2,2],\n",
    "        [2,2,0,2,2],\n",
    "        ]\n",
    "    )\n",
    "\n",
    "    shelves = np.array(\n",
    "        [[3]*10,\n",
    "        [1]*10,\n",
    "        [3]*10,\n",
    "        ]\n",
    "    )\n",
    "\n",
    "    hall_ver = np.array(\n",
    "        [[0],\n",
    "        [0],\n",
    "        [0],\n",
    "        ]\n",
    "    )\n",
    "\n",
    "    row = people\n",
    "\n",
    "    for j in range(cols):\n",
    "        row = np.concatenate((row, hall_ver, shelves), axis=1)\n",
    "\n",
    "    row = np.concatenate((row, hall_ver, people), axis=1)\n",
    "\n",
    "    hall_hor = np.array(\n",
    "        [[0]*len(row[0])]\n",
    "    )\n",
    "\n",
    "    warehouse = row\n",
    "\n",
    "    for i in range(rows-1):\n",
    "        warehouse = np.concatenate((warehouse, hall_hor, row), axis=0)\n",
    "\n",
    "    # pad the warehouse with a row of zeros\n",
    "    warehouse = np.pad(warehouse, 1, 'constant')\n",
    "\n",
    "    plt.imshow(warehouse, cmap=cmap, vmin=0, vmax=3)\n",
    "\n",
    "\n",
    "    # generate random starts and goals\n",
    "    station_locs = np.where(warehouse == 2)\n",
    "    station_locs = np.array(list(zip(station_locs[0], station_locs[1])))\n",
    "\n",
    "    # get possible goal locations\n",
    "    shelves_locs = np.where(warehouse == 3)\n",
    "    shelves_locs = np.array(list(zip(shelves_locs[0], shelves_locs[1])))\n",
    "\n",
    "    # generate randomly selected start and goal locations\n",
    "    np.random.shuffle(station_locs)\n",
    "    np.random.shuffle(shelves_locs)\n",
    "\n",
    "    start_locs = station_locs[:num_agents]\n",
    "\n",
    "    rng = np.random.default_rng()\n",
    "    rng.shuffle(shelves_locs)\n",
    "    goal_locs = np.array([[i] for i in shelves_locs[:num_agents].copy()])\n",
    "    for i in range(num_goals):\n",
    "        rng.shuffle(shelves_locs)\n",
    "        new_shelves = shelves_locs[:num_agents].copy()\n",
    "        goal_locs = np.concatenate((goal_locs, new_shelves[:, None, :]), axis=1)\n",
    "\n",
    "    return warehouse, start_locs, goal_locs"
   ]
  },
  {
   "cell_type": "code",
   "execution_count": 134,
   "metadata": {},
   "outputs": [],
   "source": [
    "ROWS = 4\n",
    "COLS = 2\n",
    "\n",
    "warehouse, start_locs, goal_locs = generate_warehouse(ROWS, COLS, num_agents=2, num_goals=15, seed=0)"
   ]
  },
  {
   "cell_type": "markdown",
   "metadata": {},
   "source": [
    "# Softmax"
   ]
  },
  {
   "cell_type": "code",
   "execution_count": 20,
   "metadata": {},
   "outputs": [],
   "source": [
    "import torch\n",
    "import torch.nn.functional as F\n",
    "\n",
    "import numpy as np"
   ]
  },
  {
   "cell_type": "code",
   "execution_count": 25,
   "metadata": {},
   "outputs": [
    {
     "data": {
      "text/plain": [
       "tensor([[45.6609, 54.3391],\n",
       "        [35.9623, 64.0377],\n",
       "        [76.8525, 23.1475],\n",
       "        [31.7345, 68.2655],\n",
       "        [73.7110, 26.2890],\n",
       "        [76.7991, 23.2009],\n",
       "        [51.5995, 48.4005],\n",
       "        [50.6250, 49.3750],\n",
       "        [51.9989, 48.0011]])"
      ]
     },
     "execution_count": 25,
     "metadata": {},
     "output_type": "execute_result"
    }
   ],
   "source": [
    "F.softmax(torch.tensor([[-0.039,  0.135],\n",
    "[-0.215,  0.362],\n",
    "[ 0.577, -0.623],\n",
    "[-0.323,  0.443],\n",
    "[ 0.473, -0.558],\n",
    "[ 0.588, -0.609],\n",
    "[-0.031, -0.095],\n",
    "[-0.049, -0.074],\n",
    "[-0.013, -0.093]]), dim=1)*100"
   ]
  },
  {
   "cell_type": "code",
   "execution_count": 24,
   "metadata": {},
   "outputs": [
    {
     "data": {
      "text/plain": [
       "tensor([[42.4824, 57.5176],\n",
       "        [35.8243, 64.1757],\n",
       "        [76.1333, 23.8667],\n",
       "        [34.2764, 65.7236],\n",
       "        [74.8570, 25.1430],\n",
       "        [77.0299, 22.9701],\n",
       "        [54.5375, 45.4625],\n",
       "        [52.6974, 47.3026],\n",
       "        [53.5192, 46.4808]])"
      ]
     },
     "execution_count": 24,
     "metadata": {},
     "output_type": "execute_result"
    }
   ],
   "source": [
    "F.softmax(torch.tensor([[-0.086,  0.217],\n",
    "[-0.205,  0.378],\n",
    "[ 0.57, -0.59],\n",
    "[-0.251,  0.4],\n",
    "[ 0.527, -0.564],\n",
    "[ 0.609, -0.601],\n",
    "[ 0.046, -0.136],\n",
    "[ 0.012, -0.096],\n",
    "[ 0.038, -0.103]]), dim=1)*100"
   ]
  },
  {
   "cell_type": "code",
   "execution_count": 13,
   "metadata": {},
   "outputs": [],
   "source": [
    "starts = [(1,2),(2,3),(3,4)]\n",
    "goals = [[(3,3),(4,4),(5,5)]]\n",
    "\n",
    "x = {}"
   ]
  },
  {
   "cell_type": "code",
   "execution_count": 15,
   "metadata": {},
   "outputs": [],
   "source": [
    "x[tuple(starts)] = {}"
   ]
  },
  {
   "cell_type": "code",
   "execution_count": 16,
   "metadata": {},
   "outputs": [],
   "source": [
    "x[tuple(starts)][tuple([tuple(x) for x in goals])] = 0"
   ]
  },
  {
   "cell_type": "code",
   "execution_count": 17,
   "metadata": {},
   "outputs": [
    {
     "data": {
      "text/plain": [
       "0"
      ]
     },
     "execution_count": 17,
     "metadata": {},
     "output_type": "execute_result"
    }
   ],
   "source": [
    "x[tuple(starts)][tuple([tuple(x) for x in goals])]"
   ]
  },
  {
   "cell_type": "markdown",
   "metadata": {},
   "source": [
    "# CONFIG FILE"
   ]
  },
  {
   "cell_type": "code",
   "execution_count": 6,
   "metadata": {},
   "outputs": [
    {
     "data": {
      "text/plain": [
       "{'BATCH_SIZE': 32,\n",
       " 'LAMBDA': 1,\n",
       " 'LR': '1e-4',\n",
       " 'BUFFER_SIZE': 10000,\n",
       " 'TRAIN_STEPS': '1e10',\n",
       " 'N_ACTIONS': 2}"
      ]
     },
     "execution_count": 6,
     "metadata": {},
     "output_type": "execute_result"
    }
   ],
   "source": [
    "import yaml\n",
    "\n",
    "# Load the YAML config file\n",
    "with open(\"config.yaml\", \"r\") as file:\n",
    "    config = yaml.safe_load(file)\n",
    "\n",
    "# Access values\n",
    "BATCH_SIZE = config[\"training\"]\n",
    "BATCH_SIZE"
   ]
  },
  {
   "cell_type": "markdown",
   "metadata": {},
   "source": [
    "# FOV"
   ]
  },
  {
   "cell_type": "code",
   "execution_count": 9,
   "metadata": {},
   "outputs": [],
   "source": [
    "import numpy as np\n",
    "import matplotlib.pyplot as plt"
   ]
  },
  {
   "cell_type": "code",
   "execution_count": 39,
   "metadata": {},
   "outputs": [],
   "source": [
    "num_agents = 3\n",
    "obs_radius = 7\n",
    "\n",
    "obs = np.zeros((num_agents, 6, 2*obs_radius+1, 2*obs_radius+1), dtype=bool)"
   ]
  },
  {
   "cell_type": "code",
   "execution_count": 50,
   "metadata": {},
   "outputs": [
    {
     "data": {
      "text/plain": [
       "<matplotlib.image.AxesImage at 0x7f74fc38fa30>"
      ]
     },
     "execution_count": 50,
     "metadata": {},
     "output_type": "execute_result"
    },
    {
     "data": {
      "image/png": "[encoded data removed]",
      "text/plain": [
       "<Figure size 640x480 with 1 Axes>"
      ]
     },
     "metadata": {},
     "output_type": "display_data"
    }
   ],
   "source": [
    "map_size = (15, 15)\n",
    "grid_map = np.random.randint(2, size=map_size)\n",
    "plt.imshow(grid_map, cmap='gray_r')"
   ]
  },
  {
   "cell_type": "code",
   "execution_count": 51,
   "metadata": {},
   "outputs": [
    {
     "data": {
      "text/plain": [
       "<matplotlib.image.AxesImage at 0x7f74fc3054c0>"
      ]
     },
     "execution_count": 51,
     "metadata": {},
     "output_type": "execute_result"
    },
    {
     "data": {
      "image/png": "[encoded data removed]",
      "text/plain": [
       "<Figure size 640x480 with 1 Axes>"
      ]
     },
     "metadata": {},
     "output_type": "display_data"
    }
   ],
   "source": [
    "obstacle_map = np.pad(grid_map, obs_radius, 'constant', constant_values=0)\n",
    "plt.imshow(obstacle_map, cmap='gray_r')"
   ]
  },
  {
   "cell_type": "code",
   "execution_count": 52,
   "metadata": {},
   "outputs": [
    {
     "data": {
      "text/plain": [
       "<matplotlib.image.AxesImage at 0x7f74fc2da2e0>"
      ]
     },
     "execution_count": 52,
     "metadata": {},
     "output_type": "execute_result"
    },
    {
     "data": {
      "image/png": "[encoded data removed]",
      "text/plain": [
       "<Figure size 640x480 with 1 Axes>"
      ]
     },
     "metadata": {},
     "output_type": "display_data"
    }
   ],
   "source": [
    "agents_pos = np.random.randint(1, map_size[0]-1, size=(num_agents, 2))\n",
    "agent_map = np.zeros((map_size), dtype=bool)\n",
    "agent_map[agents_pos[:,0], agents_pos[:,1]] = 1\n",
    "agent_map = np.pad(agent_map, obs_radius, 'constant', constant_values=0)\n",
    "plt.imshow(agent_map, cmap='gray_r')"
   ]
  },
  {
   "cell_type": "code",
   "execution_count": 53,
   "metadata": {},
   "outputs": [],
   "source": [
    "# 1. neighboring agents\n",
    "# 2. obstacle_map\n",
    "# 3. heuri_map\n",
    "\n",
    "for i, agent_pos in enumerate(agents_pos):\n",
    "    x, y = agent_pos\n",
    "    obs[i, 0] = agent_map[x:x+2*obs_radius+1, y:y+2*obs_radius+1]\n",
    "    obs[i, 0, obs_radius, obs_radius] = 0\n",
    "    obs[i, 1] = obstacle_map[x:x+2*obs_radius+1, y:y+2*obs_radius+1]\n",
    "    # obs[i, 2:] = heuri_map[i, :, x:x+2*obs_radius+1, y:y+2*obs_radius+1]"
   ]
  },
  {
   "cell_type": "code",
   "execution_count": 54,
   "metadata": {},
   "outputs": [
    {
     "data": {
      "text/plain": [
       "array([4, 8])"
      ]
     },
     "execution_count": 54,
     "metadata": {},
     "output_type": "execute_result"
    }
   ],
   "source": [
    "agents_pos[0]"
   ]
  },
  {
   "cell_type": "code",
   "execution_count": 57,
   "metadata": {},
   "outputs": [],
   "source": [
    "plt.imshow(obs[0,1], cmap='gray_r')"
   ]
  },
  {
   "cell_type": "code",
   "execution_count": null,
   "metadata": {},
   "outputs": [],
   "source": []
  }
 ],
 "metadata": {
  "kernelspec": {
   "display_name": "torch",
   "language": "python",
   "name": "python3"
  },
  "language_info": {
   "codemirror_mode": {
    "name": "ipython",
    "version": 3
   },
   "file_extension": ".py",
   "mimetype": "text/x-python",
   "name": "python",
   "nbconvert_exporter": "python",
   "pygments_lexer": "ipython3",
   "version": "3.9.15"
  }
 },
 "nbformat": 4,
 "nbformat_minor": 2
}
